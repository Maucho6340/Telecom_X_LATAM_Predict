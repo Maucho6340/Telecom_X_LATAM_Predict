{
  "nbformat": 4,
  "nbformat_minor": 0,
  "metadata": {
    "colab": {
      "provenance": [],
      "toc_visible": true,
      "authorship_tag": "ABX9TyNnR71vxx6wZfg58M6pOIBA",
      "include_colab_link": true
    },
    "kernelspec": {
      "name": "python3",
      "display_name": "Python 3"
    },
    "language_info": {
      "name": "python"
    }
  },
  "cells": [
    {
      "cell_type": "markdown",
      "metadata": {
        "id": "view-in-github",
        "colab_type": "text"
      },
      "source": [
        "<a href=\"https://colab.research.google.com/github/Maucho6340/Telecom_X_LATAM_Predict/blob/main/Challenge_predict_evasion_op1.ipynb\" target=\"_parent\"><img src=\"https://colab.research.google.com/assets/colab-badge.svg\" alt=\"Open In Colab\"/></a>"
      ]
    },
    {
      "cell_type": "markdown",
      "source": [
        "# <font color='blue'> CHALLENGE TELECOM X:\n",
        "**Análisis de evasión de clientes Parte-2**"
      ],
      "metadata": {
        "id": "2v3hKLbro6Wt"
      }
    },
    {
      "cell_type": "markdown",
      "source": [
        "## **MISIÓN**\n",
        "\n"
      ],
      "metadata": {
        "id": "oxGxLv5_o-Sb"
      }
    },
    {
      "cell_type": "markdown",
      "source": [
        "Tu nueva misión es desarrollar modelos predictivos capaces de prever qué clientes tienen mayor probabilidad de cancelar sus servicios.\n",
        "\n",
        "La empresa quiere anticiparse al problema de la cancelación, y te corresponde a ti construir un pipeline robusto para esta etapa inicial de modelado."
      ],
      "metadata": {
        "id": "NTJynijxq4ju"
      }
    },
    {
      "cell_type": "code",
      "execution_count": 1,
      "metadata": {
        "id": "7Idq62xZmadG"
      },
      "outputs": [],
      "source": []
    },
    {
      "cell_type": "markdown",
      "source": [
        "## **OBJETIVOS DEL DESAFÍO**\n"
      ],
      "metadata": {
        "id": "5yGXft8cpC02"
      }
    },
    {
      "cell_type": "markdown",
      "source": [
        "\n",
        "- Preparar los datos para el modelado (tratamiento, codificación, normalización).\n",
        "\n",
        "- Realizar análisis de correlación y selección de variables.\n",
        "\n",
        "- Entrenar dos o más modelos de clasificación.\n",
        "\n",
        "- Evaluar el rendimiento de los modelos con métricas.\n",
        "\n",
        "- Interpretar los resultados, incluyendo la importancia de las variables.\n",
        "\n",
        "- Crear una conclusión estratégica señalando los principales factores que influyen en la cancelación."
      ],
      "metadata": {
        "id": "VTrmwmCkq-NK"
      }
    },
    {
      "cell_type": "markdown",
      "source": [
        "## **PLAN DE TRABAJO**"
      ],
      "metadata": {
        "id": "a9TJXOtJg6qE"
      }
    },
    {
      "cell_type": "markdown",
      "source": [
        "\n",
        "A.- **Preparar los datos para el modelado**.<br>\n",
        "\n",
        "1.\tCrear el repositorio de tu proyecto en GitHub.<br>\n",
        "\n",
        "2.\tExtracción del Archivo Tratado.<br><br>\n",
        "\n",
        "B.- **Limpieza**.<br>\n",
        "\n",
        "3.\tEliminación de Columnas Irrelevantes.<br>\n",
        "3-1.\tElimina columnas que no aportan valor al análisis o a los modelos predictivos, como identificadores únicos (por ejemplo, el ID del cliente).<br> Estas columnas no ayudan en la predicción de la cancelación y pueden incluso perjudicar el desempeño de los modelos.\n",
        "<br>\n",
        "\n",
        "\n",
        "C.- **Encoding**.<br>\n",
        "\n",
        "4.\tVerificación de la Proporción de Cancelación (Churn).<br>\n",
        "4-1.\tCalcula la proporción de clientes que cancelaron en relación con los que permanecieron activos. Evalúa si existe un desbalance entre las clases, ya que esto puede impactar en los modelos predictivos y en el análisis de los resultados.<br>\n",
        "Puedes usar value_counts() de pandas para obtener esta proporción.<br>\n",
        "\n",
        "5.\tBalanceo de Clases (opcional)<br>\n",
        "5-1.\tSi deseas profundizar en el análisis, aplica técnicas de balanceo como undersampling o oversampling. En situaciones de fuerte desbalanceo, herramientas como SMOTE pueden ser útiles para generar ejemplos sintéticos de la clase minoritaria.<br>\n",
        "\n",
        "6.\tNormalización o Estandarización (si es necesario)<br>\n",
        "6-1.\tEvalúa la necesidad de normalizar o estandarizar los datos, según los modelos que se aplicarán. Modelos basados en distancia, como KNN, SVM, Regresión Logística y Redes Neuronales, requieren este preprocesamiento. Por otro lado, modelos basados en árboles, como Decision Tree, Random Forest y XGBoost, no son sensibles a la escala de los datos.\n",
        "<br>\n",
        "\n",
        "\n",
        "D.- **Correlación y Selección de Variables**.<br>\n",
        "\n",
        "7.\tAnálisis de Correlación<br>\n",
        "7-1.\tVisualiza la matriz de correlación para identificar relaciones entre las variables numéricas. Presta especial atención a las variables que muestran una mayor correlación con la cancelación, ya que estas pueden ser fuertes candidatas para el modelo predictivo.<br>\n",
        "\n",
        "8.\tAnálisis Dirigido<br>\n",
        "8-1.\tInvestiga cómo variables específicas se relacionan con la cancelación, tales como:<br>\n",
        "A)\tTiempo de contrato × Cancelación<br>\n",
        "B)\tGasto total × Cancelación<br>\n",
        "8-2.\tUtiliza gráficos como boxplots o scatter plots para visualizar patrones y posibles tendencias.\n",
        "<br>\n",
        "\n",
        "\n",
        "E.- **Modelado Predictivo**.<br>\n",
        "\n",
        "9.\tSeparación de Datos<br>\n",
        "9-1.\tDivide el conjunto de datos en entrenamiento y prueba para evaluar el rendimiento del modelo. Una división común es 70% para entrenamiento y 30% para prueba, o 80/20, dependiendo del tamaño de la base de datos.<br>\n",
        "\n",
        "10.\tCreación de Modelos<br>\n",
        "10-.1.\tCrea al menos dos modelos diferentes para predecir la cancelación de clientes.<br>\n",
        "A)\tUn modelo puede requerir normalización, como Regresión Logística o KNN.<br>\n",
        "B)\tEl otro modelo puede no requerir normalización, como Árbol de Decisión o Random Forest.<br>\n",
        "10-2.\tLa decisión de aplicar o no la normalización depende de los modelos seleccionados. Ambos modelos pueden ser creados sin normalización, pero también es una opción combinar modelos con y sin normalización.<br>\n",
        "A)\tJustificación:<br>\n",
        "a)\tRegresión Logística / KNN: Estos modelos son sensibles a la escala de los datos, por lo que la normalización es importante para que los coeficientes o las distancias se calculen correctamente.<br>\n",
        "b)\tÁrbol de Decisión / Random Forest: Estos modelos no dependen de la escala de los datos, por lo que no es necesario aplicar normalización.<br>\n",
        "c)\tSi decides normalizar los datos, deberías explicar cómo esta etapa asegura que los modelos basados en distancia o en optimización de parámetros no se vean sesgados por la magnitud de las variables.<br>\n",
        "\n",
        "11.\tEvaluación de los Modelos<br>\n",
        "11-1.\tEvalúa cada modelo utilizando las siguientes métricas:<br>\n",
        "A)\tExactitud (Acurácia)\n",
        "B)\tPrecisión\n",
        "C)\tRecall\n",
        "D)\tF1-score\n",
        "E)\tMatriz de confusión<br>\n",
        "11-2.\tDespués, realiza un análisis crítico y compara los modelos:<br>\n",
        "A)\t¿Cuál modelo tuvo el mejor desempeño?<br>\n",
        "B)\t¿Algún modelo presentó overfitting o underfitting? Si es así, considera las posibles causas y ajustes:<br>\n",
        "a)\tOverfitting: Cuando el modelo aprende demasiado sobre los datos de entrenamiento, perdiendo la capacidad de generalizar a nuevos datos. Considera reducir la complejidad del modelo o aumentar los datos de entrenamiento.\n",
        "b)\tUnderfitting: Cuando el modelo no captura bien las tendencias de los datos, lo que indica que es demasiado simple. Intenta aumentar la complejidad del modelo o ajustar sus parámetros.<br>\n",
        "\n",
        "\n",
        "F.- **Interpretación y Conclusiones**.\n",
        "<br>\n",
        "\n",
        "12.\tAnálisis de la Importancia de las Variables<br>\n",
        "12-1.\tDespués de elegir los modelos, realiza el análisis de las variables más relevantes para la predicción de la cancelación:<br>\n",
        "A)\tRegresión Logística: Investiga los coeficientes de las variables, que muestran su contribución a la predicción de cancelación.<br>\n",
        "B)\tKNN (K-Nearest Neighbors): Observa cómo los vecinos más cercanos influyen en la decisión de clasificación. Las variables más impactantes pueden ser aquellas que más contribuyen a la proximidad entre los puntos de datos.<br>\n",
        "C)\tRandom Forest: Utiliza la importancia de las variables proporcionada por el modelo. Random Forest calcula la importancia basándose en cómo cada variable contribuye a la reducción de la impureza durante las divisiones de los árboles.<br>\n",
        "D)\tSVM (Support Vector Machine): En el SVM, las variables más relevantes son aquellas que influyen en la frontera de decisión entre las clases. Puedes analizar los coeficientes de los vectores de soporte para entender qué variables tienen mayor impacto.<br>\n",
        "E)\tOtros Modelos: Dependiendo del modelo elegido, considera el análisis de métricas específicas para comprender la relevancia de las variables. Por ejemplo, coeficientes en modelos lineales, pesos en redes neuronales, o la importancia relativa en técnicas de boosting (como XGBoost).<br>\n",
        "\n",
        "13.\tConclusión<br>\n",
        "13-1.\tElaboren un informe detallado, destacando los factores que más influyen en la cancelación, basándose en las variables seleccionadas y en el rendimiento de cada modelo.<br>\n",
        "13-2.\tIdentifiquen los principales factores que afectan la cancelación de clientes y propongan estrategias de retención basadas en los resultados obtenidos.\n"
      ],
      "metadata": {
        "id": "1AXR2-SKhCjO"
      }
    },
    {
      "cell_type": "markdown",
      "source": [
        "## **A.- PREPARAR LOS DATOS PARA EL MODELADO**"
      ],
      "metadata": {
        "id": "tdcl-M8BrDP4"
      }
    },
    {
      "cell_type": "markdown",
      "source": [
        "### A.1 <u>Crear repositorio en Git Hub</u>"
      ],
      "metadata": {
        "id": "H8X77HNqgKWT"
      }
    },
    {
      "cell_type": "code",
      "source": [
        "# Repositorio GitHub: Maucho6340/Telecom_X_LATAM_predict"
      ],
      "metadata": {
        "id": "f4L5CJVzgWQH"
      },
      "execution_count": 2,
      "outputs": []
    },
    {
      "cell_type": "markdown",
      "source": [
        "### A.2 <u>Extracción del Archivo Tratado</u>"
      ],
      "metadata": {
        "id": "6-U841NOrWFI"
      }
    },
    {
      "cell_type": "code",
      "source": [
        "# Código A.2 – Extracción del Archivo Tratado\n",
        "import pandas as pd\n",
        "\n",
        "# Ruta del archivo\n",
        "ruta_archivo = \"/content/df_predict_churn_2.csv\"\n",
        "\n",
        "# Cargar el archivo en un DataFrame\n",
        "df = pd.read_csv(ruta_archivo)\n",
        "\n",
        "# Verificar la forma y las primeras filas\n",
        "print(\"Shape del DataFrame:\", df.shape)\n",
        "df.head()"
      ],
      "metadata": {
        "colab": {
          "base_uri": "https://localhost:8080/",
          "height": 343
        },
        "id": "iymYK3pzV1pl",
        "outputId": "16130a6d-2db8-4f15-e01d-0d93051565a8"
      },
      "execution_count": 3,
      "outputs": [
        {
          "output_type": "stream",
          "name": "stdout",
          "text": [
            "Shape del DataFrame: (7267, 24)\n"
          ]
        },
        {
          "output_type": "execute_result",
          "data": {
            "text/plain": [
              "   ID_Cliente Churn customer.gender  customer.SeniorCitizen customer.Partner  \\\n",
              "0  0002-ORFBO    No          Female                       0              Yes   \n",
              "1  0003-MKNFE    No            Male                       0               No   \n",
              "2  0004-TLHLJ   Yes            Male                       0               No   \n",
              "3  0011-IGKFF   Yes            Male                       1              Yes   \n",
              "4  0013-EXCHZ   Yes          Female                       1              Yes   \n",
              "\n",
              "  customer.Dependents  customer.tenure phone.PhoneService phone.MultipleLines  \\\n",
              "0                 Yes                9                Yes                  No   \n",
              "1                  No                9                Yes                 Yes   \n",
              "2                  No                4                Yes                  No   \n",
              "3                  No               13                Yes                  No   \n",
              "4                  No                3                Yes                  No   \n",
              "\n",
              "  internet.InternetService  ... internet.StreamingTV internet.StreamingMovies  \\\n",
              "0                      DSL  ...                  Yes                       No   \n",
              "1                      DSL  ...                   No                      Yes   \n",
              "2             Fibra Óptica  ...                   No                       No   \n",
              "3             Fibra Óptica  ...                  Yes                      Yes   \n",
              "4             Fibra Óptica  ...                  Yes                       No   \n",
              "\n",
              "  account.Contract account.PaperlessBilling account.PaymentMethod  \\\n",
              "0         One year                      Yes          Mailed check   \n",
              "1   Month-to-month                       No          Mailed check   \n",
              "2   Month-to-month                      Yes      Electronic check   \n",
              "3   Month-to-month                      Yes      Electronic check   \n",
              "4   Month-to-month                      Yes          Mailed check   \n",
              "\n",
              "  Facturacion_Mensual account.Charges.Total Cuentas_Diarias Churn_bin  \\\n",
              "0                65.6                593.30        2.186667       0.0   \n",
              "1                59.9                542.40        1.996667       0.0   \n",
              "2                73.9                280.85        2.463333       1.0   \n",
              "3                98.0               1237.85        3.266667       1.0   \n",
              "4                83.9                267.40        2.796667       1.0   \n",
              "\n",
              "   Churn_num  \n",
              "0        0.0  \n",
              "1        0.0  \n",
              "2        1.0  \n",
              "3        1.0  \n",
              "4        1.0  \n",
              "\n",
              "[5 rows x 24 columns]"
            ],
            "text/html": [
              "\n",
              "  <div id=\"df-1b94e82c-5c00-4eb9-b8e1-b2d2be37a9b8\" class=\"colab-df-container\">\n",
              "    <div>\n",
              "<style scoped>\n",
              "    .dataframe tbody tr th:only-of-type {\n",
              "        vertical-align: middle;\n",
              "    }\n",
              "\n",
              "    .dataframe tbody tr th {\n",
              "        vertical-align: top;\n",
              "    }\n",
              "\n",
              "    .dataframe thead th {\n",
              "        text-align: right;\n",
              "    }\n",
              "</style>\n",
              "<table border=\"1\" class=\"dataframe\">\n",
              "  <thead>\n",
              "    <tr style=\"text-align: right;\">\n",
              "      <th></th>\n",
              "      <th>ID_Cliente</th>\n",
              "      <th>Churn</th>\n",
              "      <th>customer.gender</th>\n",
              "      <th>customer.SeniorCitizen</th>\n",
              "      <th>customer.Partner</th>\n",
              "      <th>customer.Dependents</th>\n",
              "      <th>customer.tenure</th>\n",
              "      <th>phone.PhoneService</th>\n",
              "      <th>phone.MultipleLines</th>\n",
              "      <th>internet.InternetService</th>\n",
              "      <th>...</th>\n",
              "      <th>internet.StreamingTV</th>\n",
              "      <th>internet.StreamingMovies</th>\n",
              "      <th>account.Contract</th>\n",
              "      <th>account.PaperlessBilling</th>\n",
              "      <th>account.PaymentMethod</th>\n",
              "      <th>Facturacion_Mensual</th>\n",
              "      <th>account.Charges.Total</th>\n",
              "      <th>Cuentas_Diarias</th>\n",
              "      <th>Churn_bin</th>\n",
              "      <th>Churn_num</th>\n",
              "    </tr>\n",
              "  </thead>\n",
              "  <tbody>\n",
              "    <tr>\n",
              "      <th>0</th>\n",
              "      <td>0002-ORFBO</td>\n",
              "      <td>No</td>\n",
              "      <td>Female</td>\n",
              "      <td>0</td>\n",
              "      <td>Yes</td>\n",
              "      <td>Yes</td>\n",
              "      <td>9</td>\n",
              "      <td>Yes</td>\n",
              "      <td>No</td>\n",
              "      <td>DSL</td>\n",
              "      <td>...</td>\n",
              "      <td>Yes</td>\n",
              "      <td>No</td>\n",
              "      <td>One year</td>\n",
              "      <td>Yes</td>\n",
              "      <td>Mailed check</td>\n",
              "      <td>65.6</td>\n",
              "      <td>593.30</td>\n",
              "      <td>2.186667</td>\n",
              "      <td>0.0</td>\n",
              "      <td>0.0</td>\n",
              "    </tr>\n",
              "    <tr>\n",
              "      <th>1</th>\n",
              "      <td>0003-MKNFE</td>\n",
              "      <td>No</td>\n",
              "      <td>Male</td>\n",
              "      <td>0</td>\n",
              "      <td>No</td>\n",
              "      <td>No</td>\n",
              "      <td>9</td>\n",
              "      <td>Yes</td>\n",
              "      <td>Yes</td>\n",
              "      <td>DSL</td>\n",
              "      <td>...</td>\n",
              "      <td>No</td>\n",
              "      <td>Yes</td>\n",
              "      <td>Month-to-month</td>\n",
              "      <td>No</td>\n",
              "      <td>Mailed check</td>\n",
              "      <td>59.9</td>\n",
              "      <td>542.40</td>\n",
              "      <td>1.996667</td>\n",
              "      <td>0.0</td>\n",
              "      <td>0.0</td>\n",
              "    </tr>\n",
              "    <tr>\n",
              "      <th>2</th>\n",
              "      <td>0004-TLHLJ</td>\n",
              "      <td>Yes</td>\n",
              "      <td>Male</td>\n",
              "      <td>0</td>\n",
              "      <td>No</td>\n",
              "      <td>No</td>\n",
              "      <td>4</td>\n",
              "      <td>Yes</td>\n",
              "      <td>No</td>\n",
              "      <td>Fibra Óptica</td>\n",
              "      <td>...</td>\n",
              "      <td>No</td>\n",
              "      <td>No</td>\n",
              "      <td>Month-to-month</td>\n",
              "      <td>Yes</td>\n",
              "      <td>Electronic check</td>\n",
              "      <td>73.9</td>\n",
              "      <td>280.85</td>\n",
              "      <td>2.463333</td>\n",
              "      <td>1.0</td>\n",
              "      <td>1.0</td>\n",
              "    </tr>\n",
              "    <tr>\n",
              "      <th>3</th>\n",
              "      <td>0011-IGKFF</td>\n",
              "      <td>Yes</td>\n",
              "      <td>Male</td>\n",
              "      <td>1</td>\n",
              "      <td>Yes</td>\n",
              "      <td>No</td>\n",
              "      <td>13</td>\n",
              "      <td>Yes</td>\n",
              "      <td>No</td>\n",
              "      <td>Fibra Óptica</td>\n",
              "      <td>...</td>\n",
              "      <td>Yes</td>\n",
              "      <td>Yes</td>\n",
              "      <td>Month-to-month</td>\n",
              "      <td>Yes</td>\n",
              "      <td>Electronic check</td>\n",
              "      <td>98.0</td>\n",
              "      <td>1237.85</td>\n",
              "      <td>3.266667</td>\n",
              "      <td>1.0</td>\n",
              "      <td>1.0</td>\n",
              "    </tr>\n",
              "    <tr>\n",
              "      <th>4</th>\n",
              "      <td>0013-EXCHZ</td>\n",
              "      <td>Yes</td>\n",
              "      <td>Female</td>\n",
              "      <td>1</td>\n",
              "      <td>Yes</td>\n",
              "      <td>No</td>\n",
              "      <td>3</td>\n",
              "      <td>Yes</td>\n",
              "      <td>No</td>\n",
              "      <td>Fibra Óptica</td>\n",
              "      <td>...</td>\n",
              "      <td>Yes</td>\n",
              "      <td>No</td>\n",
              "      <td>Month-to-month</td>\n",
              "      <td>Yes</td>\n",
              "      <td>Mailed check</td>\n",
              "      <td>83.9</td>\n",
              "      <td>267.40</td>\n",
              "      <td>2.796667</td>\n",
              "      <td>1.0</td>\n",
              "      <td>1.0</td>\n",
              "    </tr>\n",
              "  </tbody>\n",
              "</table>\n",
              "<p>5 rows × 24 columns</p>\n",
              "</div>\n",
              "    <div class=\"colab-df-buttons\">\n",
              "\n",
              "  <div class=\"colab-df-container\">\n",
              "    <button class=\"colab-df-convert\" onclick=\"convertToInteractive('df-1b94e82c-5c00-4eb9-b8e1-b2d2be37a9b8')\"\n",
              "            title=\"Convert this dataframe to an interactive table.\"\n",
              "            style=\"display:none;\">\n",
              "\n",
              "  <svg xmlns=\"http://www.w3.org/2000/svg\" height=\"24px\" viewBox=\"0 -960 960 960\">\n",
              "    <path d=\"M120-120v-720h720v720H120Zm60-500h600v-160H180v160Zm220 220h160v-160H400v160Zm0 220h160v-160H400v160ZM180-400h160v-160H180v160Zm440 0h160v-160H620v160ZM180-180h160v-160H180v160Zm440 0h160v-160H620v160Z\"/>\n",
              "  </svg>\n",
              "    </button>\n",
              "\n",
              "  <style>\n",
              "    .colab-df-container {\n",
              "      display:flex;\n",
              "      gap: 12px;\n",
              "    }\n",
              "\n",
              "    .colab-df-convert {\n",
              "      background-color: #E8F0FE;\n",
              "      border: none;\n",
              "      border-radius: 50%;\n",
              "      cursor: pointer;\n",
              "      display: none;\n",
              "      fill: #1967D2;\n",
              "      height: 32px;\n",
              "      padding: 0 0 0 0;\n",
              "      width: 32px;\n",
              "    }\n",
              "\n",
              "    .colab-df-convert:hover {\n",
              "      background-color: #E2EBFA;\n",
              "      box-shadow: 0px 1px 2px rgba(60, 64, 67, 0.3), 0px 1px 3px 1px rgba(60, 64, 67, 0.15);\n",
              "      fill: #174EA6;\n",
              "    }\n",
              "\n",
              "    .colab-df-buttons div {\n",
              "      margin-bottom: 4px;\n",
              "    }\n",
              "\n",
              "    [theme=dark] .colab-df-convert {\n",
              "      background-color: #3B4455;\n",
              "      fill: #D2E3FC;\n",
              "    }\n",
              "\n",
              "    [theme=dark] .colab-df-convert:hover {\n",
              "      background-color: #434B5C;\n",
              "      box-shadow: 0px 1px 3px 1px rgba(0, 0, 0, 0.15);\n",
              "      filter: drop-shadow(0px 1px 2px rgba(0, 0, 0, 0.3));\n",
              "      fill: #FFFFFF;\n",
              "    }\n",
              "  </style>\n",
              "\n",
              "    <script>\n",
              "      const buttonEl =\n",
              "        document.querySelector('#df-1b94e82c-5c00-4eb9-b8e1-b2d2be37a9b8 button.colab-df-convert');\n",
              "      buttonEl.style.display =\n",
              "        google.colab.kernel.accessAllowed ? 'block' : 'none';\n",
              "\n",
              "      async function convertToInteractive(key) {\n",
              "        const element = document.querySelector('#df-1b94e82c-5c00-4eb9-b8e1-b2d2be37a9b8');\n",
              "        const dataTable =\n",
              "          await google.colab.kernel.invokeFunction('convertToInteractive',\n",
              "                                                    [key], {});\n",
              "        if (!dataTable) return;\n",
              "\n",
              "        const docLinkHtml = 'Like what you see? Visit the ' +\n",
              "          '<a target=\"_blank\" href=https://colab.research.google.com/notebooks/data_table.ipynb>data table notebook</a>'\n",
              "          + ' to learn more about interactive tables.';\n",
              "        element.innerHTML = '';\n",
              "        dataTable['output_type'] = 'display_data';\n",
              "        await google.colab.output.renderOutput(dataTable, element);\n",
              "        const docLink = document.createElement('div');\n",
              "        docLink.innerHTML = docLinkHtml;\n",
              "        element.appendChild(docLink);\n",
              "      }\n",
              "    </script>\n",
              "  </div>\n",
              "\n",
              "\n",
              "    <div id=\"df-aba11206-2f12-4dc9-a397-d4295231c25f\">\n",
              "      <button class=\"colab-df-quickchart\" onclick=\"quickchart('df-aba11206-2f12-4dc9-a397-d4295231c25f')\"\n",
              "                title=\"Suggest charts\"\n",
              "                style=\"display:none;\">\n",
              "\n",
              "<svg xmlns=\"http://www.w3.org/2000/svg\" height=\"24px\"viewBox=\"0 0 24 24\"\n",
              "     width=\"24px\">\n",
              "    <g>\n",
              "        <path d=\"M19 3H5c-1.1 0-2 .9-2 2v14c0 1.1.9 2 2 2h14c1.1 0 2-.9 2-2V5c0-1.1-.9-2-2-2zM9 17H7v-7h2v7zm4 0h-2V7h2v10zm4 0h-2v-4h2v4z\"/>\n",
              "    </g>\n",
              "</svg>\n",
              "      </button>\n",
              "\n",
              "<style>\n",
              "  .colab-df-quickchart {\n",
              "      --bg-color: #E8F0FE;\n",
              "      --fill-color: #1967D2;\n",
              "      --hover-bg-color: #E2EBFA;\n",
              "      --hover-fill-color: #174EA6;\n",
              "      --disabled-fill-color: #AAA;\n",
              "      --disabled-bg-color: #DDD;\n",
              "  }\n",
              "\n",
              "  [theme=dark] .colab-df-quickchart {\n",
              "      --bg-color: #3B4455;\n",
              "      --fill-color: #D2E3FC;\n",
              "      --hover-bg-color: #434B5C;\n",
              "      --hover-fill-color: #FFFFFF;\n",
              "      --disabled-bg-color: #3B4455;\n",
              "      --disabled-fill-color: #666;\n",
              "  }\n",
              "\n",
              "  .colab-df-quickchart {\n",
              "    background-color: var(--bg-color);\n",
              "    border: none;\n",
              "    border-radius: 50%;\n",
              "    cursor: pointer;\n",
              "    display: none;\n",
              "    fill: var(--fill-color);\n",
              "    height: 32px;\n",
              "    padding: 0;\n",
              "    width: 32px;\n",
              "  }\n",
              "\n",
              "  .colab-df-quickchart:hover {\n",
              "    background-color: var(--hover-bg-color);\n",
              "    box-shadow: 0 1px 2px rgba(60, 64, 67, 0.3), 0 1px 3px 1px rgba(60, 64, 67, 0.15);\n",
              "    fill: var(--button-hover-fill-color);\n",
              "  }\n",
              "\n",
              "  .colab-df-quickchart-complete:disabled,\n",
              "  .colab-df-quickchart-complete:disabled:hover {\n",
              "    background-color: var(--disabled-bg-color);\n",
              "    fill: var(--disabled-fill-color);\n",
              "    box-shadow: none;\n",
              "  }\n",
              "\n",
              "  .colab-df-spinner {\n",
              "    border: 2px solid var(--fill-color);\n",
              "    border-color: transparent;\n",
              "    border-bottom-color: var(--fill-color);\n",
              "    animation:\n",
              "      spin 1s steps(1) infinite;\n",
              "  }\n",
              "\n",
              "  @keyframes spin {\n",
              "    0% {\n",
              "      border-color: transparent;\n",
              "      border-bottom-color: var(--fill-color);\n",
              "      border-left-color: var(--fill-color);\n",
              "    }\n",
              "    20% {\n",
              "      border-color: transparent;\n",
              "      border-left-color: var(--fill-color);\n",
              "      border-top-color: var(--fill-color);\n",
              "    }\n",
              "    30% {\n",
              "      border-color: transparent;\n",
              "      border-left-color: var(--fill-color);\n",
              "      border-top-color: var(--fill-color);\n",
              "      border-right-color: var(--fill-color);\n",
              "    }\n",
              "    40% {\n",
              "      border-color: transparent;\n",
              "      border-right-color: var(--fill-color);\n",
              "      border-top-color: var(--fill-color);\n",
              "    }\n",
              "    60% {\n",
              "      border-color: transparent;\n",
              "      border-right-color: var(--fill-color);\n",
              "    }\n",
              "    80% {\n",
              "      border-color: transparent;\n",
              "      border-right-color: var(--fill-color);\n",
              "      border-bottom-color: var(--fill-color);\n",
              "    }\n",
              "    90% {\n",
              "      border-color: transparent;\n",
              "      border-bottom-color: var(--fill-color);\n",
              "    }\n",
              "  }\n",
              "</style>\n",
              "\n",
              "      <script>\n",
              "        async function quickchart(key) {\n",
              "          const quickchartButtonEl =\n",
              "            document.querySelector('#' + key + ' button');\n",
              "          quickchartButtonEl.disabled = true;  // To prevent multiple clicks.\n",
              "          quickchartButtonEl.classList.add('colab-df-spinner');\n",
              "          try {\n",
              "            const charts = await google.colab.kernel.invokeFunction(\n",
              "                'suggestCharts', [key], {});\n",
              "          } catch (error) {\n",
              "            console.error('Error during call to suggestCharts:', error);\n",
              "          }\n",
              "          quickchartButtonEl.classList.remove('colab-df-spinner');\n",
              "          quickchartButtonEl.classList.add('colab-df-quickchart-complete');\n",
              "        }\n",
              "        (() => {\n",
              "          let quickchartButtonEl =\n",
              "            document.querySelector('#df-aba11206-2f12-4dc9-a397-d4295231c25f button');\n",
              "          quickchartButtonEl.style.display =\n",
              "            google.colab.kernel.accessAllowed ? 'block' : 'none';\n",
              "        })();\n",
              "      </script>\n",
              "    </div>\n",
              "\n",
              "    </div>\n",
              "  </div>\n"
            ],
            "application/vnd.google.colaboratory.intrinsic+json": {
              "type": "dataframe",
              "variable_name": "df"
            }
          },
          "metadata": {},
          "execution_count": 3
        }
      ]
    },
    {
      "cell_type": "markdown",
      "source": [
        "## **B.- LIMPIEZA**"
      ],
      "metadata": {
        "id": "t_yvs8jTnzNZ"
      }
    },
    {
      "cell_type": "markdown",
      "source": [
        "### B.3 <u>Eliminar columnas irrelevantes</u>"
      ],
      "metadata": {
        "id": "gMNsKlXMYaoT"
      }
    },
    {
      "cell_type": "code",
      "source": [
        "# Eliminación de columnas irrelevantes\n",
        "df.drop(columns=['ID_Cliente'], inplace=True)\n",
        "\n",
        "# Verificación del cambio\n",
        "print(\"Columnas restantes:\")\n",
        "print(df.columns.tolist())"
      ],
      "metadata": {
        "colab": {
          "base_uri": "https://localhost:8080/"
        },
        "id": "3r5IzTsGV4zz",
        "outputId": "211d5f2f-1f41-4e0f-f4f6-50f5afa03dfd"
      },
      "execution_count": 4,
      "outputs": [
        {
          "output_type": "stream",
          "name": "stdout",
          "text": [
            "Columnas restantes:\n",
            "['Churn', 'customer.gender', 'customer.SeniorCitizen', 'customer.Partner', 'customer.Dependents', 'customer.tenure', 'phone.PhoneService', 'phone.MultipleLines', 'internet.InternetService', 'internet.OnlineSecurity', 'internet.OnlineBackup', 'internet.DeviceProtection', 'internet.TechSupport', 'internet.StreamingTV', 'internet.StreamingMovies', 'account.Contract', 'account.PaperlessBilling', 'account.PaymentMethod', 'Facturacion_Mensual', 'account.Charges.Total', 'Cuentas_Diarias', 'Churn_bin', 'Churn_num']\n"
          ]
        }
      ]
    },
    {
      "cell_type": "markdown",
      "source": [
        "## **C.- ENCODING**"
      ],
      "metadata": {
        "id": "ogwrQI82oVfb"
      }
    },
    {
      "cell_type": "markdown",
      "source": [
        "### C.4.1 <u>Verificación de la Proporción de Cancelación (Churn)</u>"
      ],
      "metadata": {
        "id": "pS4v5DJEohyT"
      }
    },
    {
      "cell_type": "code",
      "source": [
        "# Código C.4.1 – Verificación de la Proporción de Cancelación (Churn)\n",
        "proporcion_churn = df['Churn'].value_counts(normalize=True)\n",
        "\n",
        "# Mostrar proporciones\n",
        "print(\"Proporción de cancelación (Churn):\")\n",
        "print(proporcion_churn)"
      ],
      "metadata": {
        "colab": {
          "base_uri": "https://localhost:8080/"
        },
        "id": "I5fbDbBoV4mF",
        "outputId": "f98a9086-e3d3-4a81-b50b-5dc344765d47"
      },
      "execution_count": 5,
      "outputs": [
        {
          "output_type": "stream",
          "name": "stdout",
          "text": [
            "Proporción de cancelación (Churn):\n",
            "Churn\n",
            "No             0.711986\n",
            "Yes            0.257190\n",
            "Desconocido    0.030824\n",
            "Name: proportion, dtype: float64\n"
          ]
        }
      ]
    },
    {
      "cell_type": "markdown",
      "source": [
        "### C.4.2 <u>Eliminación de registros con Churn desconocido</u>"
      ],
      "metadata": {
        "id": "pArW3SE7qEgO"
      }
    },
    {
      "cell_type": "code",
      "source": [
        "# Código C.4.3 – Eliminación de registros con Churn desconocido\n",
        "df = df[df['Churn'] != 'Desconocido'].copy()\n",
        "\n",
        "# Verificamos que se haya eliminado correctamente\n",
        "print(\"Distribución actual de Churn:\")\n",
        "print(df['Churn'].value_counts(normalize=True))"
      ],
      "metadata": {
        "colab": {
          "base_uri": "https://localhost:8080/"
        },
        "id": "VVy-I1kEp50x",
        "outputId": "6a338534-aa2a-4937-e57b-f087acbcb76e"
      },
      "execution_count": 6,
      "outputs": [
        {
          "output_type": "stream",
          "name": "stdout",
          "text": [
            "Distribución actual de Churn:\n",
            "Churn\n",
            "No     0.73463\n",
            "Yes    0.26537\n",
            "Name: proportion, dtype: float64\n"
          ]
        }
      ]
    },
    {
      "cell_type": "markdown",
      "source": [
        "### C.5.1 <u>Balanceo de Clases</u>"
      ],
      "metadata": {
        "id": "nrLDtVkIqWU_"
      }
    },
    {
      "cell_type": "markdown",
      "source": [
        "#### Codificación de variables categóricas"
      ],
      "metadata": {
        "id": "QQWVLZNCx5Mg"
      }
    },
    {
      "cell_type": "code",
      "source": [
        "# C.6.1 – Codificación de variables categóricas\n",
        "df_encoded = pd.get_dummies(df, drop_first=True)\n",
        "\n",
        "# C.6.2 – Verificación de codificación\n",
        "print(\"Shape del DataFrame codificado:\", df_encoded.shape)\n",
        "print(\"Tipos de datos después de codificación:\")\n",
        "print(df_encoded.dtypes.value_counts())"
      ],
      "metadata": {
        "colab": {
          "base_uri": "https://localhost:8080/"
        },
        "id": "sguYPpaGv_Dn",
        "outputId": "2984ede1-1012-4bfa-aac0-1522b01539e9"
      },
      "execution_count": 7,
      "outputs": [
        {
          "output_type": "stream",
          "name": "stdout",
          "text": [
            "Shape del DataFrame codificado: (7043, 34)\n",
            "Tipos de datos después de codificación:\n",
            "bool       27\n",
            "float64     5\n",
            "int64       2\n",
            "Name: count, dtype: int64\n"
          ]
        }
      ]
    },
    {
      "cell_type": "markdown",
      "source": [
        "#### Separación de variables"
      ],
      "metadata": {
        "id": "BBIb72bKyFJz"
      }
    },
    {
      "cell_type": "code",
      "source": [
        "# C.5.2 – Separación de variables (versión final)\n",
        "X = df_encoded.drop(columns=['Churn_Yes', 'Churn_bin', 'Churn_num'])  # Variables predictoras\n",
        "y = df_encoded['Churn_num']  # Variable objetivo binaria\n"
      ],
      "metadata": {
        "id": "IKSxnH3Mp5vj"
      },
      "execution_count": 8,
      "outputs": []
    },
    {
      "cell_type": "markdown",
      "source": [
        "#### Imputación de valores faltantes"
      ],
      "metadata": {
        "id": "FzP8iZ4Qyo9x"
      }
    },
    {
      "cell_type": "code",
      "source": [
        "# C.5.2.1 – Imputación de valores faltantes\n",
        "from sklearn.impute import SimpleImputer\n",
        "\n",
        "imputer = SimpleImputer(strategy='mean')  # Imputación con la media\n",
        "X_imputed = imputer.fit_transform(X)      # Resultado: array NumPy\n",
        "\n",
        "# Reconstrucción del DataFrame original\n",
        "import pandas as pd\n",
        "X = pd.DataFrame(X_imputed, columns=X.columns)"
      ],
      "metadata": {
        "id": "-3jj_rHWxexM"
      },
      "execution_count": 9,
      "outputs": []
    },
    {
      "cell_type": "markdown",
      "source": [
        "#### Aplicación de SMOTE"
      ],
      "metadata": {
        "id": "sJJY30dDyzMj"
      }
    },
    {
      "cell_type": "code",
      "source": [
        "from imblearn.over_sampling import SMOTE\n",
        "\n",
        "smote = SMOTE(random_state=42)\n",
        "X_resampled, y_resampled = smote.fit_resample(X, y)\n",
        "\n",
        "print(\"Distribución después de SMOTE:\")\n",
        "print(pd.Series(y_resampled).value_counts(normalize=True))\n"
      ],
      "metadata": {
        "colab": {
          "base_uri": "https://localhost:8080/"
        },
        "id": "7MzRFfX1wg5Z",
        "outputId": "bcbd17e3-50cf-4602-ceb3-2d0f1e90eec1"
      },
      "execution_count": 10,
      "outputs": [
        {
          "output_type": "stream",
          "name": "stdout",
          "text": [
            "Distribución después de SMOTE:\n",
            "Churn_num\n",
            "0.0    0.5\n",
            "1.0    0.5\n",
            "Name: proportion, dtype: float64\n"
          ]
        }
      ]
    },
    {
      "cell_type": "markdown",
      "source": [
        "### C 6.1\t<u>Normalización o Estandarización</u>"
      ],
      "metadata": {
        "id": "85lynbAnfvUi"
      }
    },
    {
      "cell_type": "code",
      "source": [
        "from sklearn.preprocessing import StandardScaler\n",
        "\n",
        "# 1. Identificar columnas numéricas\n",
        "numeric_cols = X_resampled.select_dtypes(include=['float64', 'int64']).columns\n",
        "\n",
        "# 2. Inicializar el escalador\n",
        "scaler = StandardScaler()\n",
        "\n",
        "# 3. Aplicar escalado solo a columnas numéricas\n",
        "X_resampled_scaled = X_resampled.copy()\n",
        "X_resampled_scaled[numeric_cols] = scaler.fit_transform(X_resampled[numeric_cols])\n",
        "\n",
        "# 4. Confirmar forma y tipo\n",
        "print(\"Shape después de escalar:\", X_resampled_scaled.shape)\n",
        "print(\"Tipos de datos:\\n\", X_resampled_scaled.dtypes)"
      ],
      "metadata": {
        "colab": {
          "base_uri": "https://localhost:8080/"
        },
        "id": "YdSIVvNkwgwp",
        "outputId": "89eda897-5f2d-4aa6-8341-44bf0d8250f3"
      },
      "execution_count": 19,
      "outputs": [
        {
          "output_type": "stream",
          "name": "stdout",
          "text": [
            "Shape después de escalar: (10348, 31)\n",
            "Tipos de datos:\n",
            " customer.SeniorCitizen                           float64\n",
            "customer.tenure                                  float64\n",
            "Facturacion_Mensual                              float64\n",
            "account.Charges.Total                            float64\n",
            "Cuentas_Diarias                                  float64\n",
            "customer.gender_Male                             float64\n",
            "customer.Partner_Yes                             float64\n",
            "customer.Dependents_Yes                          float64\n",
            "phone.PhoneService_Yes                           float64\n",
            "phone.MultipleLines_No phone service             float64\n",
            "phone.MultipleLines_Yes                          float64\n",
            "internet.InternetService_Fibra Óptica            float64\n",
            "internet.InternetService_Sin Servicio            float64\n",
            "internet.OnlineSecurity_No internet service      float64\n",
            "internet.OnlineSecurity_Yes                      float64\n",
            "internet.OnlineBackup_No internet service        float64\n",
            "internet.OnlineBackup_Yes                        float64\n",
            "internet.DeviceProtection_No internet service    float64\n",
            "internet.DeviceProtection_Yes                    float64\n",
            "internet.TechSupport_No internet service         float64\n",
            "internet.TechSupport_Yes                         float64\n",
            "internet.StreamingTV_No internet service         float64\n",
            "internet.StreamingTV_Yes                         float64\n",
            "internet.StreamingMovies_No internet service     float64\n",
            "internet.StreamingMovies_Yes                     float64\n",
            "account.Contract_One year                        float64\n",
            "account.Contract_Two year                        float64\n",
            "account.PaperlessBilling_Yes                     float64\n",
            "account.PaymentMethod_Credit card (automatic)    float64\n",
            "account.PaymentMethod_Electronic check           float64\n",
            "account.PaymentMethod_Mailed check               float64\n",
            "dtype: object\n"
          ]
        }
      ]
    },
    {
      "cell_type": "code",
      "source": [],
      "metadata": {
        "id": "LO8uyyemftbX"
      },
      "execution_count": null,
      "outputs": []
    },
    {
      "cell_type": "code",
      "source": [],
      "metadata": {
        "id": "FCgM_IIIftNX"
      },
      "execution_count": null,
      "outputs": []
    },
    {
      "cell_type": "code",
      "source": [],
      "metadata": {
        "id": "FADdpkmHfs-4"
      },
      "execution_count": null,
      "outputs": []
    },
    {
      "cell_type": "code",
      "source": [],
      "metadata": {
        "id": "eNXBGLqIfsuF"
      },
      "execution_count": null,
      "outputs": []
    },
    {
      "cell_type": "code",
      "source": [],
      "metadata": {
        "id": "MDa_Giykwgr4"
      },
      "execution_count": 10,
      "outputs": []
    },
    {
      "cell_type": "code",
      "source": [],
      "metadata": {
        "id": "vDLJXJ2dwgni"
      },
      "execution_count": 10,
      "outputs": []
    },
    {
      "cell_type": "code",
      "source": [],
      "metadata": {
        "id": "Hz1rCtOFV4QK"
      },
      "execution_count": 15,
      "outputs": []
    },
    {
      "cell_type": "code",
      "source": [],
      "metadata": {
        "id": "JMsMBvI9k7jw"
      },
      "execution_count": 15,
      "outputs": []
    },
    {
      "cell_type": "code",
      "source": [],
      "metadata": {
        "id": "nrhctHsBk7e3"
      },
      "execution_count": 15,
      "outputs": []
    },
    {
      "cell_type": "code",
      "source": [],
      "metadata": {
        "id": "GyM1ntrwk7an"
      },
      "execution_count": 15,
      "outputs": []
    },
    {
      "cell_type": "code",
      "source": [],
      "metadata": {
        "id": "DlXywoqfV4C7"
      },
      "execution_count": 15,
      "outputs": []
    },
    {
      "cell_type": "code",
      "source": [],
      "metadata": {
        "id": "SDvJgNqRmoxm"
      },
      "execution_count": 19,
      "outputs": []
    }
  ]
}