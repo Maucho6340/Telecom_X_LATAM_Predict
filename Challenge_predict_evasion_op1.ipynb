{
  "nbformat": 4,
  "nbformat_minor": 0,
  "metadata": {
    "colab": {
      "provenance": [],
      "toc_visible": true,
      "authorship_tag": "ABX9TyPgP0NDsX42V1tMepjwkrj4",
      "include_colab_link": true
    },
    "kernelspec": {
      "name": "python3",
      "display_name": "Python 3"
    },
    "language_info": {
      "name": "python"
    }
  },
  "cells": [
    {
      "cell_type": "markdown",
      "metadata": {
        "id": "view-in-github",
        "colab_type": "text"
      },
      "source": [
        "<a href=\"https://colab.research.google.com/github/Maucho6340/Telecom_X_LATAM_Predict/blob/main/Challenge_predict_evasion_op1.ipynb\" target=\"_parent\"><img src=\"https://colab.research.google.com/assets/colab-badge.svg\" alt=\"Open In Colab\"/></a>"
      ]
    },
    {
      "cell_type": "markdown",
      "source": [
        "# <font color='blue'> CHALLENGE TELECOM X:\n",
        "**Análisis de evasión de clientes Parte-2**"
      ],
      "metadata": {
        "id": "2v3hKLbro6Wt"
      }
    },
    {
      "cell_type": "markdown",
      "source": [
        "## **MISIÓN**\n",
        "\n"
      ],
      "metadata": {
        "id": "oxGxLv5_o-Sb"
      }
    },
    {
      "cell_type": "markdown",
      "source": [
        "Tu nueva misión es desarrollar modelos predictivos capaces de prever qué clientes tienen mayor probabilidad de cancelar sus servicios.\n",
        "\n",
        "La empresa quiere anticiparse al problema de la cancelación, y te corresponde a ti construir un pipeline robusto para esta etapa inicial de modelado."
      ],
      "metadata": {
        "id": "NTJynijxq4ju"
      }
    },
    {
      "cell_type": "code",
      "execution_count": 1,
      "metadata": {
        "id": "7Idq62xZmadG"
      },
      "outputs": [],
      "source": []
    },
    {
      "cell_type": "markdown",
      "source": [
        "## **OBJETIVOS DEL DESAFÍO**\n"
      ],
      "metadata": {
        "id": "5yGXft8cpC02"
      }
    },
    {
      "cell_type": "markdown",
      "source": [
        "\n",
        "- Preparar los datos para el modelado (tratamiento, codificación, normalización).\n",
        "\n",
        "- Realizar análisis de correlación y selección de variables.\n",
        "\n",
        "- Entrenar dos o más modelos de clasificación.\n",
        "\n",
        "- Evaluar el rendimiento de los modelos con métricas.\n",
        "\n",
        "- Interpretar los resultados, incluyendo la importancia de las variables.\n",
        "\n",
        "- Crear una conclusión estratégica señalando los principales factores que influyen en la cancelación."
      ],
      "metadata": {
        "id": "VTrmwmCkq-NK"
      }
    },
    {
      "cell_type": "markdown",
      "source": [
        "## **PLAN DE TRABAJO**"
      ],
      "metadata": {
        "id": "a9TJXOtJg6qE"
      }
    },
    {
      "cell_type": "markdown",
      "source": [
        "\n",
        "A.- **Preparar los datos para el modelado**.<br>\n",
        "\n",
        "1.\tCrear el repositorio de tu proyecto en GitHub.<br>\n",
        "\n",
        "2.\tExtracción del Archivo Tratado.<br><br>\n",
        "\n",
        "B.- **Limpieza**.<br>\n",
        "\n",
        "3.\tEliminación de Columnas Irrelevantes.<br>\n",
        "3-1.\tElimina columnas que no aportan valor al análisis o a los modelos predictivos, como identificadores únicos (por ejemplo, el ID del cliente).<br> Estas columnas no ayudan en la predicción de la cancelación y pueden incluso perjudicar el desempeño de los modelos.\n",
        "<br>\n",
        "\n",
        "\n",
        "C.- **Encoding**.<br>\n",
        "\n",
        "4.\tVerificación de la Proporción de Cancelación (Churn).<br>\n",
        "4-1.\tCalcula la proporción de clientes que cancelaron en relación con los que permanecieron activos. Evalúa si existe un desbalance entre las clases, ya que esto puede impactar en los modelos predictivos y en el análisis de los resultados.<br>\n",
        "Puedes usar value_counts() de pandas para obtener esta proporción.<br>\n",
        "\n",
        "5.\tBalanceo de Clases (opcional)<br>\n",
        "5-1.\tSi deseas profundizar en el análisis, aplica técnicas de balanceo como undersampling o oversampling. En situaciones de fuerte desbalanceo, herramientas como SMOTE pueden ser útiles para generar ejemplos sintéticos de la clase minoritaria.<br>\n",
        "\n",
        "6.\tNormalización o Estandarización (si es necesario)<br>\n",
        "6-1.\tEvalúa la necesidad de normalizar o estandarizar los datos, según los modelos que se aplicarán. Modelos basados en distancia, como KNN, SVM, Regresión Logística y Redes Neuronales, requieren este preprocesamiento. Por otro lado, modelos basados en árboles, como Decision Tree, Random Forest y XGBoost, no son sensibles a la escala de los datos.\n",
        "<br>\n",
        "\n",
        "\n",
        "D.- **Correlación y Selección de Variables**.<br>\n",
        "\n",
        "7.\tAnálisis de Correlación<br>\n",
        "7-1.\tVisualiza la matriz de correlación para identificar relaciones entre las variables numéricas. Presta especial atención a las variables que muestran una mayor correlación con la cancelación, ya que estas pueden ser fuertes candidatas para el modelo predictivo.<br>\n",
        "\n",
        "8.\tAnálisis Dirigido<br>\n",
        "8-1.\tInvestiga cómo variables específicas se relacionan con la cancelación, tales como:<br>\n",
        "A)\tTiempo de contrato × Cancelación<br>\n",
        "B)\tGasto total × Cancelación<br>\n",
        "8-2.\tUtiliza gráficos como boxplots o scatter plots para visualizar patrones y posibles tendencias.\n",
        "<br>\n",
        "\n",
        "\n",
        "E.- **Modelado Predictivo**.<br>\n",
        "\n",
        "9.\tSeparación de Datos<br>\n",
        "9-1.\tDivide el conjunto de datos en entrenamiento y prueba para evaluar el rendimiento del modelo. Una división común es 70% para entrenamiento y 30% para prueba, o 80/20, dependiendo del tamaño de la base de datos.<br>\n",
        "\n",
        "10.\tCreación de Modelos<br>\n",
        "10-.1.\tCrea al menos dos modelos diferentes para predecir la cancelación de clientes.<br>\n",
        "A)\tUn modelo puede requerir normalización, como Regresión Logística o KNN.<br>\n",
        "B)\tEl otro modelo puede no requerir normalización, como Árbol de Decisión o Random Forest.<br>\n",
        "10-2.\tLa decisión de aplicar o no la normalización depende de los modelos seleccionados. Ambos modelos pueden ser creados sin normalización, pero también es una opción combinar modelos con y sin normalización.<br>\n",
        "A)\tJustificación:<br>\n",
        "a)\tRegresión Logística / KNN: Estos modelos son sensibles a la escala de los datos, por lo que la normalización es importante para que los coeficientes o las distancias se calculen correctamente.<br>\n",
        "b)\tÁrbol de Decisión / Random Forest: Estos modelos no dependen de la escala de los datos, por lo que no es necesario aplicar normalización.<br>\n",
        "c)\tSi decides normalizar los datos, deberías explicar cómo esta etapa asegura que los modelos basados en distancia o en optimización de parámetros no se vean sesgados por la magnitud de las variables.<br>\n",
        "\n",
        "11.\tEvaluación de los Modelos<br>\n",
        "11-1.\tEvalúa cada modelo utilizando las siguientes métricas:<br>\n",
        "A)\tExactitud (Acurácia)\n",
        "B)\tPrecisión\n",
        "C)\tRecall\n",
        "D)\tF1-score\n",
        "E)\tMatriz de confusión<br>\n",
        "11-2.\tDespués, realiza un análisis crítico y compara los modelos:<br>\n",
        "A)\t¿Cuál modelo tuvo el mejor desempeño?<br>\n",
        "B)\t¿Algún modelo presentó overfitting o underfitting? Si es así, considera las posibles causas y ajustes:<br>\n",
        "a)\tOverfitting: Cuando el modelo aprende demasiado sobre los datos de entrenamiento, perdiendo la capacidad de generalizar a nuevos datos. Considera reducir la complejidad del modelo o aumentar los datos de entrenamiento.\n",
        "b)\tUnderfitting: Cuando el modelo no captura bien las tendencias de los datos, lo que indica que es demasiado simple. Intenta aumentar la complejidad del modelo o ajustar sus parámetros.<br>\n",
        "\n",
        "\n",
        "F.- **Interpretación y Conclusiones**.\n",
        "<br>\n",
        "\n",
        "12.\tAnálisis de la Importancia de las Variables<br>\n",
        "12-1.\tDespués de elegir los modelos, realiza el análisis de las variables más relevantes para la predicción de la cancelación:<br>\n",
        "A)\tRegresión Logística: Investiga los coeficientes de las variables, que muestran su contribución a la predicción de cancelación.<br>\n",
        "B)\tKNN (K-Nearest Neighbors): Observa cómo los vecinos más cercanos influyen en la decisión de clasificación. Las variables más impactantes pueden ser aquellas que más contribuyen a la proximidad entre los puntos de datos.<br>\n",
        "C)\tRandom Forest: Utiliza la importancia de las variables proporcionada por el modelo. Random Forest calcula la importancia basándose en cómo cada variable contribuye a la reducción de la impureza durante las divisiones de los árboles.<br>\n",
        "D)\tSVM (Support Vector Machine): En el SVM, las variables más relevantes son aquellas que influyen en la frontera de decisión entre las clases. Puedes analizar los coeficientes de los vectores de soporte para entender qué variables tienen mayor impacto.<br>\n",
        "E)\tOtros Modelos: Dependiendo del modelo elegido, considera el análisis de métricas específicas para comprender la relevancia de las variables. Por ejemplo, coeficientes en modelos lineales, pesos en redes neuronales, o la importancia relativa en técnicas de boosting (como XGBoost).<br>\n",
        "\n",
        "13.\tConclusión<br>\n",
        "13-1.\tElaboren un informe detallado, destacando los factores que más influyen en la cancelación, basándose en las variables seleccionadas y en el rendimiento de cada modelo.<br>\n",
        "13-2.\tIdentifiquen los principales factores que afectan la cancelación de clientes y propongan estrategias de retención basadas en los resultados obtenidos.\n"
      ],
      "metadata": {
        "id": "1AXR2-SKhCjO"
      }
    },
    {
      "cell_type": "markdown",
      "source": [
        "## **A.- PREPARAR LOS DATOS PARA EL MODELADO**"
      ],
      "metadata": {
        "id": "tdcl-M8BrDP4"
      }
    },
    {
      "cell_type": "markdown",
      "source": [
        "### A.1 <u>Crear repositorio en Git Hub</u>"
      ],
      "metadata": {
        "id": "H8X77HNqgKWT"
      }
    },
    {
      "cell_type": "code",
      "source": [
        "# Repositorio GitHub: Maucho6340/Telecom_X_LATAM_predict"
      ],
      "metadata": {
        "id": "f4L5CJVzgWQH"
      },
      "execution_count": 2,
      "outputs": []
    },
    {
      "cell_type": "markdown",
      "source": [
        "### A.2 <u>Extracción del Archivo Tratado</u>"
      ],
      "metadata": {
        "id": "6-U841NOrWFI"
      }
    },
    {
      "cell_type": "code",
      "source": [
        "# Código A.2 – Extracción del Archivo Tratado\n",
        "import pandas as pd\n",
        "\n",
        "# Ruta del archivo\n",
        "ruta_archivo = \"/content/df_predict_churn_2.csv\"\n",
        "\n",
        "# Cargar el archivo en un DataFrame\n",
        "df = pd.read_csv(ruta_archivo)\n",
        "\n",
        "# Verificar la forma y las primeras filas\n",
        "print(\"Shape del DataFrame:\", df.shape)\n",
        "df.head()"
      ],
      "metadata": {
        "colab": {
          "base_uri": "https://localhost:8080/",
          "height": 343
        },
        "id": "iymYK3pzV1pl",
        "outputId": "16130a6d-2db8-4f15-e01d-0d93051565a8"
      },
      "execution_count": 3,
      "outputs": [
        {
          "output_type": "stream",
          "name": "stdout",
          "text": [
            "Shape del DataFrame: (7267, 24)\n"
          ]
        },
        {
          "output_type": "execute_result",
          "data": {
            "text/plain": [
              "   ID_Cliente Churn customer.gender  customer.SeniorCitizen customer.Partner  \\\n",
              "0  0002-ORFBO    No          Female                       0              Yes   \n",
              "1  0003-MKNFE    No            Male                       0               No   \n",
              "2  0004-TLHLJ   Yes            Male                       0               No   \n",
              "3  0011-IGKFF   Yes            Male                       1              Yes   \n",
              "4  0013-EXCHZ   Yes          Female                       1              Yes   \n",
              "\n",
              "  customer.Dependents  customer.tenure phone.PhoneService phone.MultipleLines  \\\n",
              "0                 Yes                9                Yes                  No   \n",
              "1                  No                9                Yes                 Yes   \n",
              "2                  No                4                Yes                  No   \n",
              "3                  No               13                Yes                  No   \n",
              "4                  No                3                Yes                  No   \n",
              "\n",
              "  internet.InternetService  ... internet.StreamingTV internet.StreamingMovies  \\\n",
              "0                      DSL  ...                  Yes                       No   \n",
              "1                      DSL  ...                   No                      Yes   \n",
              "2             Fibra Óptica  ...                   No                       No   \n",
              "3             Fibra Óptica  ...                  Yes                      Yes   \n",
              "4             Fibra Óptica  ...                  Yes                       No   \n",
              "\n",
              "  account.Contract account.PaperlessBilling account.PaymentMethod  \\\n",
              "0         One year                      Yes          Mailed check   \n",
              "1   Month-to-month                       No          Mailed check   \n",
              "2   Month-to-month                      Yes      Electronic check   \n",
              "3   Month-to-month                      Yes      Electronic check   \n",
              "4   Month-to-month                      Yes          Mailed check   \n",
              "\n",
              "  Facturacion_Mensual account.Charges.Total Cuentas_Diarias Churn_bin  \\\n",
              "0                65.6                593.30        2.186667       0.0   \n",
              "1                59.9                542.40        1.996667       0.0   \n",
              "2                73.9                280.85        2.463333       1.0   \n",
              "3                98.0               1237.85        3.266667       1.0   \n",
              "4                83.9                267.40        2.796667       1.0   \n",
              "\n",
              "   Churn_num  \n",
              "0        0.0  \n",
              "1        0.0  \n",
              "2        1.0  \n",
              "3        1.0  \n",
              "4        1.0  \n",
              "\n",
              "[5 rows x 24 columns]"
            ],
            "text/html": [
              "\n",
              "  <div id=\"df-1b94e82c-5c00-4eb9-b8e1-b2d2be37a9b8\" class=\"colab-df-container\">\n",
              "    <div>\n",
              "<style scoped>\n",
              "    .dataframe tbody tr th:only-of-type {\n",
              "        vertical-align: middle;\n",
              "    }\n",
              "\n",
              "    .dataframe tbody tr th {\n",
              "        vertical-align: top;\n",
              "    }\n",
              "\n",
              "    .dataframe thead th {\n",
              "        text-align: right;\n",
              "    }\n",
              "</style>\n",
              "<table border=\"1\" class=\"dataframe\">\n",
              "  <thead>\n",
              "    <tr style=\"text-align: right;\">\n",
              "      <th></th>\n",
              "      <th>ID_Cliente</th>\n",
              "      <th>Churn</th>\n",
              "      <th>customer.gender</th>\n",
              "      <th>customer.SeniorCitizen</th>\n",
              "      <th>customer.Partner</th>\n",
              "      <th>customer.Dependents</th>\n",
              "      <th>customer.tenure</th>\n",
              "      <th>phone.PhoneService</th>\n",
              "      <th>phone.MultipleLines</th>\n",
              "      <th>internet.InternetService</th>\n",
              "      <th>...</th>\n",
              "      <th>internet.StreamingTV</th>\n",
              "      <th>internet.StreamingMovies</th>\n",
              "      <th>account.Contract</th>\n",
              "      <th>account.PaperlessBilling</th>\n",
              "      <th>account.PaymentMethod</th>\n",
              "      <th>Facturacion_Mensual</th>\n",
              "      <th>account.Charges.Total</th>\n",
              "      <th>Cuentas_Diarias</th>\n",
              "      <th>Churn_bin</th>\n",
              "      <th>Churn_num</th>\n",
              "    </tr>\n",
              "  </thead>\n",
              "  <tbody>\n",
              "    <tr>\n",
              "      <th>0</th>\n",
              "      <td>0002-ORFBO</td>\n",
              "      <td>No</td>\n",
              "      <td>Female</td>\n",
              "      <td>0</td>\n",
              "      <td>Yes</td>\n",
              "      <td>Yes</td>\n",
              "      <td>9</td>\n",
              "      <td>Yes</td>\n",
              "      <td>No</td>\n",
              "      <td>DSL</td>\n",
              "      <td>...</td>\n",
              "      <td>Yes</td>\n",
              "      <td>No</td>\n",
              "      <td>One year</td>\n",
              "      <td>Yes</td>\n",
              "      <td>Mailed check</td>\n",
              "      <td>65.6</td>\n",
              "      <td>593.30</td>\n",
              "      <td>2.186667</td>\n",
              "      <td>0.0</td>\n",
              "      <td>0.0</td>\n",
              "    </tr>\n",
              "    <tr>\n",
              "      <th>1</th>\n",
              "      <td>0003-MKNFE</td>\n",
              "      <td>No</td>\n",
              "      <td>Male</td>\n",
              "      <td>0</td>\n",
              "      <td>No</td>\n",
              "      <td>No</td>\n",
              "      <td>9</td>\n",
              "      <td>Yes</td>\n",
              "      <td>Yes</td>\n",
              "      <td>DSL</td>\n",
              "      <td>...</td>\n",
              "      <td>No</td>\n",
              "      <td>Yes</td>\n",
              "      <td>Month-to-month</td>\n",
              "      <td>No</td>\n",
              "      <td>Mailed check</td>\n",
              "      <td>59.9</td>\n",
              "      <td>542.40</td>\n",
              "      <td>1.996667</td>\n",
              "      <td>0.0</td>\n",
              "      <td>0.0</td>\n",
              "    </tr>\n",
              "    <tr>\n",
              "      <th>2</th>\n",
              "      <td>0004-TLHLJ</td>\n",
              "      <td>Yes</td>\n",
              "      <td>Male</td>\n",
              "      <td>0</td>\n",
              "      <td>No</td>\n",
              "      <td>No</td>\n",
              "      <td>4</td>\n",
              "      <td>Yes</td>\n",
              "      <td>No</td>\n",
              "      <td>Fibra Óptica</td>\n",
              "      <td>...</td>\n",
              "      <td>No</td>\n",
              "      <td>No</td>\n",
              "      <td>Month-to-month</td>\n",
              "      <td>Yes</td>\n",
              "      <td>Electronic check</td>\n",
              "      <td>73.9</td>\n",
              "      <td>280.85</td>\n",
              "      <td>2.463333</td>\n",
              "      <td>1.0</td>\n",
              "      <td>1.0</td>\n",
              "    </tr>\n",
              "    <tr>\n",
              "      <th>3</th>\n",
              "      <td>0011-IGKFF</td>\n",
              "      <td>Yes</td>\n",
              "      <td>Male</td>\n",
              "      <td>1</td>\n",
              "      <td>Yes</td>\n",
              "      <td>No</td>\n",
              "      <td>13</td>\n",
              "      <td>Yes</td>\n",
              "      <td>No</td>\n",
              "      <td>Fibra Óptica</td>\n",
              "      <td>...</td>\n",
              "      <td>Yes</td>\n",
              "      <td>Yes</td>\n",
              "      <td>Month-to-month</td>\n",
              "      <td>Yes</td>\n",
              "      <td>Electronic check</td>\n",
              "      <td>98.0</td>\n",
              "      <td>1237.85</td>\n",
              "      <td>3.266667</td>\n",
              "      <td>1.0</td>\n",
              "      <td>1.0</td>\n",
              "    </tr>\n",
              "    <tr>\n",
              "      <th>4</th>\n",
              "      <td>0013-EXCHZ</td>\n",
              "      <td>Yes</td>\n",
              "      <td>Female</td>\n",
              "      <td>1</td>\n",
              "      <td>Yes</td>\n",
              "      <td>No</td>\n",
              "      <td>3</td>\n",
              "      <td>Yes</td>\n",
              "      <td>No</td>\n",
              "      <td>Fibra Óptica</td>\n",
              "      <td>...</td>\n",
              "      <td>Yes</td>\n",
              "      <td>No</td>\n",
              "      <td>Month-to-month</td>\n",
              "      <td>Yes</td>\n",
              "      <td>Mailed check</td>\n",
              "      <td>83.9</td>\n",
              "      <td>267.40</td>\n",
              "      <td>2.796667</td>\n",
              "      <td>1.0</td>\n",
              "      <td>1.0</td>\n",
              "    </tr>\n",
              "  </tbody>\n",
              "</table>\n",
              "<p>5 rows × 24 columns</p>\n",
              "</div>\n",
              "    <div class=\"colab-df-buttons\">\n",
              "\n",
              "  <div class=\"colab-df-container\">\n",
              "    <button class=\"colab-df-convert\" onclick=\"convertToInteractive('df-1b94e82c-5c00-4eb9-b8e1-b2d2be37a9b8')\"\n",
              "            title=\"Convert this dataframe to an interactive table.\"\n",
              "            style=\"display:none;\">\n",
              "\n",
              "  <svg xmlns=\"http://www.w3.org/2000/svg\" height=\"24px\" viewBox=\"0 -960 960 960\">\n",
              "    <path d=\"M120-120v-720h720v720H120Zm60-500h600v-160H180v160Zm220 220h160v-160H400v160Zm0 220h160v-160H400v160ZM180-400h160v-160H180v160Zm440 0h160v-160H620v160ZM180-180h160v-160H180v160Zm440 0h160v-160H620v160Z\"/>\n",
              "  </svg>\n",
              "    </button>\n",
              "\n",
              "  <style>\n",
              "    .colab-df-container {\n",
              "      display:flex;\n",
              "      gap: 12px;\n",
              "    }\n",
              "\n",
              "    .colab-df-convert {\n",
              "      background-color: #E8F0FE;\n",
              "      border: none;\n",
              "      border-radius: 50%;\n",
              "      cursor: pointer;\n",
              "      display: none;\n",
              "      fill: #1967D2;\n",
              "      height: 32px;\n",
              "      padding: 0 0 0 0;\n",
              "      width: 32px;\n",
              "    }\n",
              "\n",
              "    .colab-df-convert:hover {\n",
              "      background-color: #E2EBFA;\n",
              "      box-shadow: 0px 1px 2px rgba(60, 64, 67, 0.3), 0px 1px 3px 1px rgba(60, 64, 67, 0.15);\n",
              "      fill: #174EA6;\n",
              "    }\n",
              "\n",
              "    .colab-df-buttons div {\n",
              "      margin-bottom: 4px;\n",
              "    }\n",
              "\n",
              "    [theme=dark] .colab-df-convert {\n",
              "      background-color: #3B4455;\n",
              "      fill: #D2E3FC;\n",
              "    }\n",
              "\n",
              "    [theme=dark] .colab-df-convert:hover {\n",
              "      background-color: #434B5C;\n",
              "      box-shadow: 0px 1px 3px 1px rgba(0, 0, 0, 0.15);\n",
              "      filter: drop-shadow(0px 1px 2px rgba(0, 0, 0, 0.3));\n",
              "      fill: #FFFFFF;\n",
              "    }\n",
              "  </style>\n",
              "\n",
              "    <script>\n",
              "      const buttonEl =\n",
              "        document.querySelector('#df-1b94e82c-5c00-4eb9-b8e1-b2d2be37a9b8 button.colab-df-convert');\n",
              "      buttonEl.style.display =\n",
              "        google.colab.kernel.accessAllowed ? 'block' : 'none';\n",
              "\n",
              "      async function convertToInteractive(key) {\n",
              "        const element = document.querySelector('#df-1b94e82c-5c00-4eb9-b8e1-b2d2be37a9b8');\n",
              "        const dataTable =\n",
              "          await google.colab.kernel.invokeFunction('convertToInteractive',\n",
              "                                                    [key], {});\n",
              "        if (!dataTable) return;\n",
              "\n",
              "        const docLinkHtml = 'Like what you see? Visit the ' +\n",
              "          '<a target=\"_blank\" href=https://colab.research.google.com/notebooks/data_table.ipynb>data table notebook</a>'\n",
              "          + ' to learn more about interactive tables.';\n",
              "        element.innerHTML = '';\n",
              "        dataTable['output_type'] = 'display_data';\n",
              "        await google.colab.output.renderOutput(dataTable, element);\n",
              "        const docLink = document.createElement('div');\n",
              "        docLink.innerHTML = docLinkHtml;\n",
              "        element.appendChild(docLink);\n",
              "      }\n",
              "    </script>\n",
              "  </div>\n",
              "\n",
              "\n",
              "    <div id=\"df-aba11206-2f12-4dc9-a397-d4295231c25f\">\n",
              "      <button class=\"colab-df-quickchart\" onclick=\"quickchart('df-aba11206-2f12-4dc9-a397-d4295231c25f')\"\n",
              "                title=\"Suggest charts\"\n",
              "                style=\"display:none;\">\n",
              "\n",
              "<svg xmlns=\"http://www.w3.org/2000/svg\" height=\"24px\"viewBox=\"0 0 24 24\"\n",
              "     width=\"24px\">\n",
              "    <g>\n",
              "        <path d=\"M19 3H5c-1.1 0-2 .9-2 2v14c0 1.1.9 2 2 2h14c1.1 0 2-.9 2-2V5c0-1.1-.9-2-2-2zM9 17H7v-7h2v7zm4 0h-2V7h2v10zm4 0h-2v-4h2v4z\"/>\n",
              "    </g>\n",
              "</svg>\n",
              "      </button>\n",
              "\n",
              "<style>\n",
              "  .colab-df-quickchart {\n",
              "      --bg-color: #E8F0FE;\n",
              "      --fill-color: #1967D2;\n",
              "      --hover-bg-color: #E2EBFA;\n",
              "      --hover-fill-color: #174EA6;\n",
              "      --disabled-fill-color: #AAA;\n",
              "      --disabled-bg-color: #DDD;\n",
              "  }\n",
              "\n",
              "  [theme=dark] .colab-df-quickchart {\n",
              "      --bg-color: #3B4455;\n",
              "      --fill-color: #D2E3FC;\n",
              "      --hover-bg-color: #434B5C;\n",
              "      --hover-fill-color: #FFFFFF;\n",
              "      --disabled-bg-color: #3B4455;\n",
              "      --disabled-fill-color: #666;\n",
              "  }\n",
              "\n",
              "  .colab-df-quickchart {\n",
              "    background-color: var(--bg-color);\n",
              "    border: none;\n",
              "    border-radius: 50%;\n",
              "    cursor: pointer;\n",
              "    display: none;\n",
              "    fill: var(--fill-color);\n",
              "    height: 32px;\n",
              "    padding: 0;\n",
              "    width: 32px;\n",
              "  }\n",
              "\n",
              "  .colab-df-quickchart:hover {\n",
              "    background-color: var(--hover-bg-color);\n",
              "    box-shadow: 0 1px 2px rgba(60, 64, 67, 0.3), 0 1px 3px 1px rgba(60, 64, 67, 0.15);\n",
              "    fill: var(--button-hover-fill-color);\n",
              "  }\n",
              "\n",
              "  .colab-df-quickchart-complete:disabled,\n",
              "  .colab-df-quickchart-complete:disabled:hover {\n",
              "    background-color: var(--disabled-bg-color);\n",
              "    fill: var(--disabled-fill-color);\n",
              "    box-shadow: none;\n",
              "  }\n",
              "\n",
              "  .colab-df-spinner {\n",
              "    border: 2px solid var(--fill-color);\n",
              "    border-color: transparent;\n",
              "    border-bottom-color: var(--fill-color);\n",
              "    animation:\n",
              "      spin 1s steps(1) infinite;\n",
              "  }\n",
              "\n",
              "  @keyframes spin {\n",
              "    0% {\n",
              "      border-color: transparent;\n",
              "      border-bottom-color: var(--fill-color);\n",
              "      border-left-color: var(--fill-color);\n",
              "    }\n",
              "    20% {\n",
              "      border-color: transparent;\n",
              "      border-left-color: var(--fill-color);\n",
              "      border-top-color: var(--fill-color);\n",
              "    }\n",
              "    30% {\n",
              "      border-color: transparent;\n",
              "      border-left-color: var(--fill-color);\n",
              "      border-top-color: var(--fill-color);\n",
              "      border-right-color: var(--fill-color);\n",
              "    }\n",
              "    40% {\n",
              "      border-color: transparent;\n",
              "      border-right-color: var(--fill-color);\n",
              "      border-top-color: var(--fill-color);\n",
              "    }\n",
              "    60% {\n",
              "      border-color: transparent;\n",
              "      border-right-color: var(--fill-color);\n",
              "    }\n",
              "    80% {\n",
              "      border-color: transparent;\n",
              "      border-right-color: var(--fill-color);\n",
              "      border-bottom-color: var(--fill-color);\n",
              "    }\n",
              "    90% {\n",
              "      border-color: transparent;\n",
              "      border-bottom-color: var(--fill-color);\n",
              "    }\n",
              "  }\n",
              "</style>\n",
              "\n",
              "      <script>\n",
              "        async function quickchart(key) {\n",
              "          const quickchartButtonEl =\n",
              "            document.querySelector('#' + key + ' button');\n",
              "          quickchartButtonEl.disabled = true;  // To prevent multiple clicks.\n",
              "          quickchartButtonEl.classList.add('colab-df-spinner');\n",
              "          try {\n",
              "            const charts = await google.colab.kernel.invokeFunction(\n",
              "                'suggestCharts', [key], {});\n",
              "          } catch (error) {\n",
              "            console.error('Error during call to suggestCharts:', error);\n",
              "          }\n",
              "          quickchartButtonEl.classList.remove('colab-df-spinner');\n",
              "          quickchartButtonEl.classList.add('colab-df-quickchart-complete');\n",
              "        }\n",
              "        (() => {\n",
              "          let quickchartButtonEl =\n",
              "            document.querySelector('#df-aba11206-2f12-4dc9-a397-d4295231c25f button');\n",
              "          quickchartButtonEl.style.display =\n",
              "            google.colab.kernel.accessAllowed ? 'block' : 'none';\n",
              "        })();\n",
              "      </script>\n",
              "    </div>\n",
              "\n",
              "    </div>\n",
              "  </div>\n"
            ],
            "application/vnd.google.colaboratory.intrinsic+json": {
              "type": "dataframe",
              "variable_name": "df"
            }
          },
          "metadata": {},
          "execution_count": 3
        }
      ]
    },
    {
      "cell_type": "markdown",
      "source": [
        "## **B.- LIMPIEZA**"
      ],
      "metadata": {
        "id": "t_yvs8jTnzNZ"
      }
    },
    {
      "cell_type": "markdown",
      "source": [
        "### B.3 <u>Eliminar columnas irrelevantes</u>"
      ],
      "metadata": {
        "id": "gMNsKlXMYaoT"
      }
    },
    {
      "cell_type": "code",
      "source": [
        "# Eliminación de columnas irrelevantes\n",
        "df.drop(columns=['ID_Cliente'], inplace=True)\n",
        "\n",
        "# Verificación del cambio\n",
        "print(\"Columnas restantes:\")\n",
        "print(df.columns.tolist())"
      ],
      "metadata": {
        "colab": {
          "base_uri": "https://localhost:8080/"
        },
        "id": "3r5IzTsGV4zz",
        "outputId": "211d5f2f-1f41-4e0f-f4f6-50f5afa03dfd"
      },
      "execution_count": 4,
      "outputs": [
        {
          "output_type": "stream",
          "name": "stdout",
          "text": [
            "Columnas restantes:\n",
            "['Churn', 'customer.gender', 'customer.SeniorCitizen', 'customer.Partner', 'customer.Dependents', 'customer.tenure', 'phone.PhoneService', 'phone.MultipleLines', 'internet.InternetService', 'internet.OnlineSecurity', 'internet.OnlineBackup', 'internet.DeviceProtection', 'internet.TechSupport', 'internet.StreamingTV', 'internet.StreamingMovies', 'account.Contract', 'account.PaperlessBilling', 'account.PaymentMethod', 'Facturacion_Mensual', 'account.Charges.Total', 'Cuentas_Diarias', 'Churn_bin', 'Churn_num']\n"
          ]
        }
      ]
    },
    {
      "cell_type": "markdown",
      "source": [
        "## **C.- ENCODING**"
      ],
      "metadata": {
        "id": "ogwrQI82oVfb"
      }
    },
    {
      "cell_type": "markdown",
      "source": [
        "### C.4.1 <u>Verificación de la Proporción de Cancelación (Churn)</u>"
      ],
      "metadata": {
        "id": "pS4v5DJEohyT"
      }
    },
    {
      "cell_type": "code",
      "source": [
        "# Código C.4.1 – Verificación de la Proporción de Cancelación (Churn)\n",
        "proporcion_churn = df['Churn'].value_counts(normalize=True)\n",
        "\n",
        "# Mostrar proporciones\n",
        "print(\"Proporción de cancelación (Churn):\")\n",
        "print(proporcion_churn)"
      ],
      "metadata": {
        "colab": {
          "base_uri": "https://localhost:8080/"
        },
        "id": "I5fbDbBoV4mF",
        "outputId": "f98a9086-e3d3-4a81-b50b-5dc344765d47"
      },
      "execution_count": 5,
      "outputs": [
        {
          "output_type": "stream",
          "name": "stdout",
          "text": [
            "Proporción de cancelación (Churn):\n",
            "Churn\n",
            "No             0.711986\n",
            "Yes            0.257190\n",
            "Desconocido    0.030824\n",
            "Name: proportion, dtype: float64\n"
          ]
        }
      ]
    },
    {
      "cell_type": "markdown",
      "source": [
        "### C.4.2 <u>Eliminación de registros con Churn desconocido</u>"
      ],
      "metadata": {
        "id": "pArW3SE7qEgO"
      }
    },
    {
      "cell_type": "code",
      "source": [
        "# Código C.4.3 – Eliminación de registros con Churn desconocido\n",
        "df = df[df['Churn'] != 'Desconocido'].copy()\n",
        "\n",
        "# Verificamos que se haya eliminado correctamente\n",
        "print(\"Distribución actual de Churn:\")\n",
        "print(df['Churn'].value_counts(normalize=True))"
      ],
      "metadata": {
        "colab": {
          "base_uri": "https://localhost:8080/"
        },
        "id": "VVy-I1kEp50x",
        "outputId": "6a338534-aa2a-4937-e57b-f087acbcb76e"
      },
      "execution_count": 6,
      "outputs": [
        {
          "output_type": "stream",
          "name": "stdout",
          "text": [
            "Distribución actual de Churn:\n",
            "Churn\n",
            "No     0.73463\n",
            "Yes    0.26537\n",
            "Name: proportion, dtype: float64\n"
          ]
        }
      ]
    },
    {
      "cell_type": "markdown",
      "source": [
        "### C.5.1 <u>Balanceo de Clases</u>"
      ],
      "metadata": {
        "id": "nrLDtVkIqWU_"
      }
    },
    {
      "cell_type": "markdown",
      "source": [
        "#### Codificación de variables categóricas"
      ],
      "metadata": {
        "id": "QQWVLZNCx5Mg"
      }
    },
    {
      "cell_type": "code",
      "source": [
        "# C.6.1 – Codificación de variables categóricas\n",
        "df_encoded = pd.get_dummies(df, drop_first=True)\n",
        "\n",
        "# C.6.2 – Verificación de codificación\n",
        "print(\"Shape del DataFrame codificado:\", df_encoded.shape)\n",
        "print(\"Tipos de datos después de codificación:\")\n",
        "print(df_encoded.dtypes.value_counts())"
      ],
      "metadata": {
        "colab": {
          "base_uri": "https://localhost:8080/"
        },
        "id": "sguYPpaGv_Dn",
        "outputId": "2984ede1-1012-4bfa-aac0-1522b01539e9"
      },
      "execution_count": 7,
      "outputs": [
        {
          "output_type": "stream",
          "name": "stdout",
          "text": [
            "Shape del DataFrame codificado: (7043, 34)\n",
            "Tipos de datos después de codificación:\n",
            "bool       27\n",
            "float64     5\n",
            "int64       2\n",
            "Name: count, dtype: int64\n"
          ]
        }
      ]
    },
    {
      "cell_type": "markdown",
      "source": [
        "#### Separación de variables"
      ],
      "metadata": {
        "id": "BBIb72bKyFJz"
      }
    },
    {
      "cell_type": "code",
      "source": [
        "# C.5.2 – Separación de variables (versión final)\n",
        "X = df_encoded.drop(columns=['Churn_Yes', 'Churn_bin', 'Churn_num'])  # Variables predictoras\n",
        "y = df_encoded['Churn_num']  # Variable objetivo binaria\n"
      ],
      "metadata": {
        "id": "IKSxnH3Mp5vj"
      },
      "execution_count": 8,
      "outputs": []
    },
    {
      "cell_type": "markdown",
      "source": [
        "#### Imputación de valores faltantes"
      ],
      "metadata": {
        "id": "FzP8iZ4Qyo9x"
      }
    },
    {
      "cell_type": "code",
      "source": [
        "# C.5.2.1 – Imputación de valores faltantes\n",
        "from sklearn.impute import SimpleImputer\n",
        "\n",
        "imputer = SimpleImputer(strategy='mean')  # Imputación con la media\n",
        "X_imputed = imputer.fit_transform(X)      # Resultado: array NumPy\n",
        "\n",
        "# Reconstrucción del DataFrame original\n",
        "import pandas as pd\n",
        "X = pd.DataFrame(X_imputed, columns=X.columns)"
      ],
      "metadata": {
        "id": "-3jj_rHWxexM"
      },
      "execution_count": 9,
      "outputs": []
    },
    {
      "cell_type": "markdown",
      "source": [
        "#### Aplicación de SMOTE"
      ],
      "metadata": {
        "id": "sJJY30dDyzMj"
      }
    },
    {
      "cell_type": "code",
      "source": [
        "from imblearn.over_sampling import SMOTE\n",
        "\n",
        "smote = SMOTE(random_state=42)\n",
        "X_resampled, y_resampled = smote.fit_resample(X, y)\n",
        "\n",
        "print(\"Distribución después de SMOTE:\")\n",
        "print(pd.Series(y_resampled).value_counts(normalize=True))\n"
      ],
      "metadata": {
        "colab": {
          "base_uri": "https://localhost:8080/"
        },
        "id": "7MzRFfX1wg5Z",
        "outputId": "bcbd17e3-50cf-4602-ceb3-2d0f1e90eec1"
      },
      "execution_count": 10,
      "outputs": [
        {
          "output_type": "stream",
          "name": "stdout",
          "text": [
            "Distribución después de SMOTE:\n",
            "Churn_num\n",
            "0.0    0.5\n",
            "1.0    0.5\n",
            "Name: proportion, dtype: float64\n"
          ]
        }
      ]
    },
    {
      "cell_type": "markdown",
      "source": [
        "### C 6.1\t<u>Normalización o Estandarización</u>"
      ],
      "metadata": {
        "id": "85lynbAnfvUi"
      }
    },
    {
      "cell_type": "code",
      "source": [
        "from sklearn.preprocessing import StandardScaler\n",
        "\n",
        "# 1. Identificar columnas numéricas\n",
        "numeric_cols = X_resampled.select_dtypes(include=['float64', 'int64']).columns\n",
        "\n",
        "# 2. Inicializar el escalador\n",
        "scaler = StandardScaler()\n",
        "\n",
        "# 3. Aplicar escalado solo a columnas numéricas\n",
        "X_resampled_scaled = X_resampled.copy()\n",
        "X_resampled_scaled[numeric_cols] = scaler.fit_transform(X_resampled[numeric_cols])\n",
        "\n",
        "# 4. Confirmar forma y tipo\n",
        "print(\"Shape después de escalar:\", X_resampled_scaled.shape)\n",
        "print(\"Tipos de datos:\\n\", X_resampled_scaled.dtypes)"
      ],
      "metadata": {
        "colab": {
          "base_uri": "https://localhost:8080/"
        },
        "id": "YdSIVvNkwgwp",
        "outputId": "89eda897-5f2d-4aa6-8341-44bf0d8250f3"
      },
      "execution_count": 19,
      "outputs": [
        {
          "output_type": "stream",
          "name": "stdout",
          "text": [
            "Shape después de escalar: (10348, 31)\n",
            "Tipos de datos:\n",
            " customer.SeniorCitizen                           float64\n",
            "customer.tenure                                  float64\n",
            "Facturacion_Mensual                              float64\n",
            "account.Charges.Total                            float64\n",
            "Cuentas_Diarias                                  float64\n",
            "customer.gender_Male                             float64\n",
            "customer.Partner_Yes                             float64\n",
            "customer.Dependents_Yes                          float64\n",
            "phone.PhoneService_Yes                           float64\n",
            "phone.MultipleLines_No phone service             float64\n",
            "phone.MultipleLines_Yes                          float64\n",
            "internet.InternetService_Fibra Óptica            float64\n",
            "internet.InternetService_Sin Servicio            float64\n",
            "internet.OnlineSecurity_No internet service      float64\n",
            "internet.OnlineSecurity_Yes                      float64\n",
            "internet.OnlineBackup_No internet service        float64\n",
            "internet.OnlineBackup_Yes                        float64\n",
            "internet.DeviceProtection_No internet service    float64\n",
            "internet.DeviceProtection_Yes                    float64\n",
            "internet.TechSupport_No internet service         float64\n",
            "internet.TechSupport_Yes                         float64\n",
            "internet.StreamingTV_No internet service         float64\n",
            "internet.StreamingTV_Yes                         float64\n",
            "internet.StreamingMovies_No internet service     float64\n",
            "internet.StreamingMovies_Yes                     float64\n",
            "account.Contract_One year                        float64\n",
            "account.Contract_Two year                        float64\n",
            "account.PaperlessBilling_Yes                     float64\n",
            "account.PaymentMethod_Credit card (automatic)    float64\n",
            "account.PaymentMethod_Electronic check           float64\n",
            "account.PaymentMethod_Mailed check               float64\n",
            "dtype: object\n"
          ]
        }
      ]
    },
    {
      "cell_type": "code",
      "source": [],
      "metadata": {
        "id": "LO8uyyemftbX"
      },
      "execution_count": null,
      "outputs": []
    },
    {
      "cell_type": "code",
      "source": [],
      "metadata": {
        "id": "FCgM_IIIftNX"
      },
      "execution_count": null,
      "outputs": []
    },
    {
      "cell_type": "code",
      "source": [],
      "metadata": {
        "id": "FADdpkmHfs-4"
      },
      "execution_count": null,
      "outputs": []
    },
    {
      "cell_type": "code",
      "source": [],
      "metadata": {
        "id": "eNXBGLqIfsuF"
      },
      "execution_count": null,
      "outputs": []
    },
    {
      "cell_type": "code",
      "source": [],
      "metadata": {
        "id": "MDa_Giykwgr4"
      },
      "execution_count": 10,
      "outputs": []
    },
    {
      "cell_type": "code",
      "source": [],
      "metadata": {
        "id": "vDLJXJ2dwgni"
      },
      "execution_count": 10,
      "outputs": []
    },
    {
      "cell_type": "markdown",
      "source": [
        "### C.5.2 <u>Identificación de variables categóricas</u>"
      ],
      "metadata": {
        "id": "kBzJjZPXr4Pq"
      }
    },
    {
      "cell_type": "code",
      "source": [
        "# C.5.2 – Separación de variables predictoras y objetivo\n",
        "X = df.drop(columns=['Churn', 'Churn_bin', 'Churn_num'])  # Variables predictoras\n",
        "y = df['Churn_num']  # Variable objetivo binaria (0 = No, 1 = Yes)"
      ],
      "metadata": {
        "id": "G-DXtB8Rp5nf"
      },
      "execution_count": 11,
      "outputs": []
    },
    {
      "cell_type": "markdown",
      "source": [
        "### C.5.3 <u>Aplicación de SMOTE</u>"
      ],
      "metadata": {
        "id": "5q55Kx_tsJ-S"
      }
    },
    {
      "cell_type": "code",
      "source": [
        "# C.5.3 – Aplicación de SMOTE\n",
        "from imblearn.over_sampling import SMOTE\n",
        "import pandas as pd\n",
        "\n",
        "# Instanciamos SMOTE\n",
        "smote = SMOTE(random_state=42)\n",
        "\n",
        "# Aplicamos SMOTE\n",
        "X_resampled, y_resampled = smote.fit_resample(X, y)\n",
        "\n",
        "# Verificamos el nuevo balance\n",
        "print(\"Distribución después de SMOTE:\")\n",
        "print(pd.Series(y_resampled).value_counts(normalize=True))"
      ],
      "metadata": {
        "colab": {
          "base_uri": "https://localhost:8080/",
          "height": 356
        },
        "id": "x1ozE-Xmp5hO",
        "outputId": "0d381c0b-914c-4571-fad3-bba75213b988"
      },
      "execution_count": 12,
      "outputs": [
        {
          "output_type": "error",
          "ename": "ValueError",
          "evalue": "could not convert string to float: 'Female'",
          "traceback": [
            "\u001b[0;31m---------------------------------------------------------------------------\u001b[0m",
            "\u001b[0;31mValueError\u001b[0m                                Traceback (most recent call last)",
            "\u001b[0;32m/tmp/ipython-input-3222713740.py\u001b[0m in \u001b[0;36m<cell line: 0>\u001b[0;34m()\u001b[0m\n\u001b[1;32m      7\u001b[0m \u001b[0;34m\u001b[0m\u001b[0m\n\u001b[1;32m      8\u001b[0m \u001b[0;31m# Aplicamos SMOTE\u001b[0m\u001b[0;34m\u001b[0m\u001b[0;34m\u001b[0m\u001b[0m\n\u001b[0;32m----> 9\u001b[0;31m \u001b[0mX_resampled\u001b[0m\u001b[0;34m,\u001b[0m \u001b[0my_resampled\u001b[0m \u001b[0;34m=\u001b[0m \u001b[0msmote\u001b[0m\u001b[0;34m.\u001b[0m\u001b[0mfit_resample\u001b[0m\u001b[0;34m(\u001b[0m\u001b[0mX\u001b[0m\u001b[0;34m,\u001b[0m \u001b[0my\u001b[0m\u001b[0;34m)\u001b[0m\u001b[0;34m\u001b[0m\u001b[0;34m\u001b[0m\u001b[0m\n\u001b[0m\u001b[1;32m     10\u001b[0m \u001b[0;34m\u001b[0m\u001b[0m\n\u001b[1;32m     11\u001b[0m \u001b[0;31m# Verificamos el nuevo balance\u001b[0m\u001b[0;34m\u001b[0m\u001b[0;34m\u001b[0m\u001b[0m\n",
            "\u001b[0;32m/usr/local/lib/python3.11/dist-packages/imblearn/base.py\u001b[0m in \u001b[0;36mfit_resample\u001b[0;34m(self, X, y, **params)\u001b[0m\n\u001b[1;32m    200\u001b[0m             \u001b[0mThe\u001b[0m \u001b[0mcorresponding\u001b[0m \u001b[0mlabel\u001b[0m \u001b[0mof\u001b[0m\u001b[0;31m \u001b[0m\u001b[0;31m`\u001b[0m\u001b[0mX_resampled\u001b[0m\u001b[0;31m`\u001b[0m\u001b[0;34m.\u001b[0m\u001b[0;34m\u001b[0m\u001b[0;34m\u001b[0m\u001b[0m\n\u001b[1;32m    201\u001b[0m         \"\"\"\n\u001b[0;32m--> 202\u001b[0;31m         \u001b[0;32mreturn\u001b[0m \u001b[0msuper\u001b[0m\u001b[0;34m(\u001b[0m\u001b[0;34m)\u001b[0m\u001b[0;34m.\u001b[0m\u001b[0mfit_resample\u001b[0m\u001b[0;34m(\u001b[0m\u001b[0mX\u001b[0m\u001b[0;34m,\u001b[0m \u001b[0my\u001b[0m\u001b[0;34m,\u001b[0m \u001b[0;34m**\u001b[0m\u001b[0mparams\u001b[0m\u001b[0;34m)\u001b[0m\u001b[0;34m\u001b[0m\u001b[0;34m\u001b[0m\u001b[0m\n\u001b[0m\u001b[1;32m    203\u001b[0m \u001b[0;34m\u001b[0m\u001b[0m\n\u001b[1;32m    204\u001b[0m     \u001b[0;32mdef\u001b[0m \u001b[0m_more_tags\u001b[0m\u001b[0;34m(\u001b[0m\u001b[0mself\u001b[0m\u001b[0;34m)\u001b[0m\u001b[0;34m:\u001b[0m\u001b[0;34m\u001b[0m\u001b[0;34m\u001b[0m\u001b[0m\n",
            "\u001b[0;32m/usr/local/lib/python3.11/dist-packages/sklearn/base.py\u001b[0m in \u001b[0;36mwrapper\u001b[0;34m(estimator, *args, **kwargs)\u001b[0m\n\u001b[1;32m   1387\u001b[0m                 )\n\u001b[1;32m   1388\u001b[0m             ):\n\u001b[0;32m-> 1389\u001b[0;31m                 \u001b[0;32mreturn\u001b[0m \u001b[0mfit_method\u001b[0m\u001b[0;34m(\u001b[0m\u001b[0mestimator\u001b[0m\u001b[0;34m,\u001b[0m \u001b[0;34m*\u001b[0m\u001b[0margs\u001b[0m\u001b[0;34m,\u001b[0m \u001b[0;34m**\u001b[0m\u001b[0mkwargs\u001b[0m\u001b[0;34m)\u001b[0m\u001b[0;34m\u001b[0m\u001b[0;34m\u001b[0m\u001b[0m\n\u001b[0m\u001b[1;32m   1390\u001b[0m \u001b[0;34m\u001b[0m\u001b[0m\n\u001b[1;32m   1391\u001b[0m         \u001b[0;32mreturn\u001b[0m \u001b[0mwrapper\u001b[0m\u001b[0;34m\u001b[0m\u001b[0;34m\u001b[0m\u001b[0m\n",
            "\u001b[0;32m/usr/local/lib/python3.11/dist-packages/imblearn/base.py\u001b[0m in \u001b[0;36mfit_resample\u001b[0;34m(self, X, y, **params)\u001b[0m\n\u001b[1;32m     97\u001b[0m         \u001b[0mcheck_classification_targets\u001b[0m\u001b[0;34m(\u001b[0m\u001b[0my\u001b[0m\u001b[0;34m)\u001b[0m\u001b[0;34m\u001b[0m\u001b[0;34m\u001b[0m\u001b[0m\n\u001b[1;32m     98\u001b[0m         \u001b[0marrays_transformer\u001b[0m \u001b[0;34m=\u001b[0m \u001b[0mArraysTransformer\u001b[0m\u001b[0;34m(\u001b[0m\u001b[0mX\u001b[0m\u001b[0;34m,\u001b[0m \u001b[0my\u001b[0m\u001b[0;34m)\u001b[0m\u001b[0;34m\u001b[0m\u001b[0;34m\u001b[0m\u001b[0m\n\u001b[0;32m---> 99\u001b[0;31m         \u001b[0mX\u001b[0m\u001b[0;34m,\u001b[0m \u001b[0my\u001b[0m\u001b[0;34m,\u001b[0m \u001b[0mbinarize_y\u001b[0m \u001b[0;34m=\u001b[0m \u001b[0mself\u001b[0m\u001b[0;34m.\u001b[0m\u001b[0m_check_X_y\u001b[0m\u001b[0;34m(\u001b[0m\u001b[0mX\u001b[0m\u001b[0;34m,\u001b[0m \u001b[0my\u001b[0m\u001b[0;34m)\u001b[0m\u001b[0;34m\u001b[0m\u001b[0;34m\u001b[0m\u001b[0m\n\u001b[0m\u001b[1;32m    100\u001b[0m \u001b[0;34m\u001b[0m\u001b[0m\n\u001b[1;32m    101\u001b[0m         self.sampling_strategy_ = check_sampling_strategy(\n",
            "\u001b[0;32m/usr/local/lib/python3.11/dist-packages/imblearn/base.py\u001b[0m in \u001b[0;36m_check_X_y\u001b[0;34m(self, X, y, accept_sparse)\u001b[0m\n\u001b[1;32m    155\u001b[0m             \u001b[0maccept_sparse\u001b[0m \u001b[0;34m=\u001b[0m \u001b[0;34m[\u001b[0m\u001b[0;34m\"csr\"\u001b[0m\u001b[0;34m,\u001b[0m \u001b[0;34m\"csc\"\u001b[0m\u001b[0;34m]\u001b[0m\u001b[0;34m\u001b[0m\u001b[0;34m\u001b[0m\u001b[0m\n\u001b[1;32m    156\u001b[0m         \u001b[0my\u001b[0m\u001b[0;34m,\u001b[0m \u001b[0mbinarize_y\u001b[0m \u001b[0;34m=\u001b[0m \u001b[0mcheck_target_type\u001b[0m\u001b[0;34m(\u001b[0m\u001b[0my\u001b[0m\u001b[0;34m,\u001b[0m \u001b[0mindicate_one_vs_all\u001b[0m\u001b[0;34m=\u001b[0m\u001b[0;32mTrue\u001b[0m\u001b[0;34m)\u001b[0m\u001b[0;34m\u001b[0m\u001b[0;34m\u001b[0m\u001b[0m\n\u001b[0;32m--> 157\u001b[0;31m         \u001b[0mX\u001b[0m\u001b[0;34m,\u001b[0m \u001b[0my\u001b[0m \u001b[0;34m=\u001b[0m \u001b[0mvalidate_data\u001b[0m\u001b[0;34m(\u001b[0m\u001b[0mself\u001b[0m\u001b[0;34m,\u001b[0m \u001b[0mX\u001b[0m\u001b[0;34m=\u001b[0m\u001b[0mX\u001b[0m\u001b[0;34m,\u001b[0m \u001b[0my\u001b[0m\u001b[0;34m=\u001b[0m\u001b[0my\u001b[0m\u001b[0;34m,\u001b[0m \u001b[0mreset\u001b[0m\u001b[0;34m=\u001b[0m\u001b[0;32mTrue\u001b[0m\u001b[0;34m,\u001b[0m \u001b[0maccept_sparse\u001b[0m\u001b[0;34m=\u001b[0m\u001b[0maccept_sparse\u001b[0m\u001b[0;34m)\u001b[0m\u001b[0;34m\u001b[0m\u001b[0;34m\u001b[0m\u001b[0m\n\u001b[0m\u001b[1;32m    158\u001b[0m         \u001b[0;32mreturn\u001b[0m \u001b[0mX\u001b[0m\u001b[0;34m,\u001b[0m \u001b[0my\u001b[0m\u001b[0;34m,\u001b[0m \u001b[0mbinarize_y\u001b[0m\u001b[0;34m\u001b[0m\u001b[0;34m\u001b[0m\u001b[0m\n\u001b[1;32m    159\u001b[0m \u001b[0;34m\u001b[0m\u001b[0m\n",
            "\u001b[0;32m/usr/local/lib/python3.11/dist-packages/sklearn/utils/validation.py\u001b[0m in \u001b[0;36mvalidate_data\u001b[0;34m(_estimator, X, y, reset, validate_separately, skip_check_array, **check_params)\u001b[0m\n\u001b[1;32m   2959\u001b[0m             \u001b[0my\u001b[0m \u001b[0;34m=\u001b[0m \u001b[0mcheck_array\u001b[0m\u001b[0;34m(\u001b[0m\u001b[0my\u001b[0m\u001b[0;34m,\u001b[0m \u001b[0minput_name\u001b[0m\u001b[0;34m=\u001b[0m\u001b[0;34m\"y\"\u001b[0m\u001b[0;34m,\u001b[0m \u001b[0;34m**\u001b[0m\u001b[0mcheck_y_params\u001b[0m\u001b[0;34m)\u001b[0m\u001b[0;34m\u001b[0m\u001b[0;34m\u001b[0m\u001b[0m\n\u001b[1;32m   2960\u001b[0m         \u001b[0;32melse\u001b[0m\u001b[0;34m:\u001b[0m\u001b[0;34m\u001b[0m\u001b[0;34m\u001b[0m\u001b[0m\n\u001b[0;32m-> 2961\u001b[0;31m             \u001b[0mX\u001b[0m\u001b[0;34m,\u001b[0m \u001b[0my\u001b[0m \u001b[0;34m=\u001b[0m \u001b[0mcheck_X_y\u001b[0m\u001b[0;34m(\u001b[0m\u001b[0mX\u001b[0m\u001b[0;34m,\u001b[0m \u001b[0my\u001b[0m\u001b[0;34m,\u001b[0m \u001b[0;34m**\u001b[0m\u001b[0mcheck_params\u001b[0m\u001b[0;34m)\u001b[0m\u001b[0;34m\u001b[0m\u001b[0;34m\u001b[0m\u001b[0m\n\u001b[0m\u001b[1;32m   2962\u001b[0m         \u001b[0mout\u001b[0m \u001b[0;34m=\u001b[0m \u001b[0mX\u001b[0m\u001b[0;34m,\u001b[0m \u001b[0my\u001b[0m\u001b[0;34m\u001b[0m\u001b[0;34m\u001b[0m\u001b[0m\n\u001b[1;32m   2963\u001b[0m \u001b[0;34m\u001b[0m\u001b[0m\n",
            "\u001b[0;32m/usr/local/lib/python3.11/dist-packages/sklearn/utils/validation.py\u001b[0m in \u001b[0;36mcheck_X_y\u001b[0;34m(X, y, accept_sparse, accept_large_sparse, dtype, order, copy, force_writeable, force_all_finite, ensure_all_finite, ensure_2d, allow_nd, multi_output, ensure_min_samples, ensure_min_features, y_numeric, estimator)\u001b[0m\n\u001b[1;32m   1368\u001b[0m     \u001b[0mensure_all_finite\u001b[0m \u001b[0;34m=\u001b[0m \u001b[0m_deprecate_force_all_finite\u001b[0m\u001b[0;34m(\u001b[0m\u001b[0mforce_all_finite\u001b[0m\u001b[0;34m,\u001b[0m \u001b[0mensure_all_finite\u001b[0m\u001b[0;34m)\u001b[0m\u001b[0;34m\u001b[0m\u001b[0;34m\u001b[0m\u001b[0m\n\u001b[1;32m   1369\u001b[0m \u001b[0;34m\u001b[0m\u001b[0m\n\u001b[0;32m-> 1370\u001b[0;31m     X = check_array(\n\u001b[0m\u001b[1;32m   1371\u001b[0m         \u001b[0mX\u001b[0m\u001b[0;34m,\u001b[0m\u001b[0;34m\u001b[0m\u001b[0;34m\u001b[0m\u001b[0m\n\u001b[1;32m   1372\u001b[0m         \u001b[0maccept_sparse\u001b[0m\u001b[0;34m=\u001b[0m\u001b[0maccept_sparse\u001b[0m\u001b[0;34m,\u001b[0m\u001b[0;34m\u001b[0m\u001b[0;34m\u001b[0m\u001b[0m\n",
            "\u001b[0;32m/usr/local/lib/python3.11/dist-packages/sklearn/utils/validation.py\u001b[0m in \u001b[0;36mcheck_array\u001b[0;34m(array, accept_sparse, accept_large_sparse, dtype, order, copy, force_writeable, force_all_finite, ensure_all_finite, ensure_non_negative, ensure_2d, allow_nd, ensure_min_samples, ensure_min_features, estimator, input_name)\u001b[0m\n\u001b[1;32m   1053\u001b[0m                     \u001b[0marray\u001b[0m \u001b[0;34m=\u001b[0m \u001b[0mxp\u001b[0m\u001b[0;34m.\u001b[0m\u001b[0mastype\u001b[0m\u001b[0;34m(\u001b[0m\u001b[0marray\u001b[0m\u001b[0;34m,\u001b[0m \u001b[0mdtype\u001b[0m\u001b[0;34m,\u001b[0m \u001b[0mcopy\u001b[0m\u001b[0;34m=\u001b[0m\u001b[0;32mFalse\u001b[0m\u001b[0;34m)\u001b[0m\u001b[0;34m\u001b[0m\u001b[0;34m\u001b[0m\u001b[0m\n\u001b[1;32m   1054\u001b[0m                 \u001b[0;32melse\u001b[0m\u001b[0;34m:\u001b[0m\u001b[0;34m\u001b[0m\u001b[0;34m\u001b[0m\u001b[0m\n\u001b[0;32m-> 1055\u001b[0;31m                     \u001b[0marray\u001b[0m \u001b[0;34m=\u001b[0m \u001b[0m_asarray_with_order\u001b[0m\u001b[0;34m(\u001b[0m\u001b[0marray\u001b[0m\u001b[0;34m,\u001b[0m \u001b[0morder\u001b[0m\u001b[0;34m=\u001b[0m\u001b[0morder\u001b[0m\u001b[0;34m,\u001b[0m \u001b[0mdtype\u001b[0m\u001b[0;34m=\u001b[0m\u001b[0mdtype\u001b[0m\u001b[0;34m,\u001b[0m \u001b[0mxp\u001b[0m\u001b[0;34m=\u001b[0m\u001b[0mxp\u001b[0m\u001b[0;34m)\u001b[0m\u001b[0;34m\u001b[0m\u001b[0;34m\u001b[0m\u001b[0m\n\u001b[0m\u001b[1;32m   1056\u001b[0m             \u001b[0;32mexcept\u001b[0m \u001b[0mComplexWarning\u001b[0m \u001b[0;32mas\u001b[0m \u001b[0mcomplex_warning\u001b[0m\u001b[0;34m:\u001b[0m\u001b[0;34m\u001b[0m\u001b[0;34m\u001b[0m\u001b[0m\n\u001b[1;32m   1057\u001b[0m                 raise ValueError(\n",
            "\u001b[0;32m/usr/local/lib/python3.11/dist-packages/sklearn/utils/_array_api.py\u001b[0m in \u001b[0;36m_asarray_with_order\u001b[0;34m(array, dtype, order, copy, xp, device)\u001b[0m\n\u001b[1;32m    837\u001b[0m             \u001b[0marray\u001b[0m \u001b[0;34m=\u001b[0m \u001b[0mnumpy\u001b[0m\u001b[0;34m.\u001b[0m\u001b[0marray\u001b[0m\u001b[0;34m(\u001b[0m\u001b[0marray\u001b[0m\u001b[0;34m,\u001b[0m \u001b[0morder\u001b[0m\u001b[0;34m=\u001b[0m\u001b[0morder\u001b[0m\u001b[0;34m,\u001b[0m \u001b[0mdtype\u001b[0m\u001b[0;34m=\u001b[0m\u001b[0mdtype\u001b[0m\u001b[0;34m)\u001b[0m\u001b[0;34m\u001b[0m\u001b[0;34m\u001b[0m\u001b[0m\n\u001b[1;32m    838\u001b[0m         \u001b[0;32melse\u001b[0m\u001b[0;34m:\u001b[0m\u001b[0;34m\u001b[0m\u001b[0;34m\u001b[0m\u001b[0m\n\u001b[0;32m--> 839\u001b[0;31m             \u001b[0marray\u001b[0m \u001b[0;34m=\u001b[0m \u001b[0mnumpy\u001b[0m\u001b[0;34m.\u001b[0m\u001b[0masarray\u001b[0m\u001b[0;34m(\u001b[0m\u001b[0marray\u001b[0m\u001b[0;34m,\u001b[0m \u001b[0morder\u001b[0m\u001b[0;34m=\u001b[0m\u001b[0morder\u001b[0m\u001b[0;34m,\u001b[0m \u001b[0mdtype\u001b[0m\u001b[0;34m=\u001b[0m\u001b[0mdtype\u001b[0m\u001b[0;34m)\u001b[0m\u001b[0;34m\u001b[0m\u001b[0;34m\u001b[0m\u001b[0m\n\u001b[0m\u001b[1;32m    840\u001b[0m \u001b[0;34m\u001b[0m\u001b[0m\n\u001b[1;32m    841\u001b[0m         \u001b[0;31m# At this point array is a NumPy ndarray. We convert it to an array\u001b[0m\u001b[0;34m\u001b[0m\u001b[0;34m\u001b[0m\u001b[0m\n",
            "\u001b[0;32m/usr/local/lib/python3.11/dist-packages/pandas/core/generic.py\u001b[0m in \u001b[0;36m__array__\u001b[0;34m(self, dtype, copy)\u001b[0m\n\u001b[1;32m   2151\u001b[0m     ) -> np.ndarray:\n\u001b[1;32m   2152\u001b[0m         \u001b[0mvalues\u001b[0m \u001b[0;34m=\u001b[0m \u001b[0mself\u001b[0m\u001b[0;34m.\u001b[0m\u001b[0m_values\u001b[0m\u001b[0;34m\u001b[0m\u001b[0;34m\u001b[0m\u001b[0m\n\u001b[0;32m-> 2153\u001b[0;31m         \u001b[0marr\u001b[0m \u001b[0;34m=\u001b[0m \u001b[0mnp\u001b[0m\u001b[0;34m.\u001b[0m\u001b[0masarray\u001b[0m\u001b[0;34m(\u001b[0m\u001b[0mvalues\u001b[0m\u001b[0;34m,\u001b[0m \u001b[0mdtype\u001b[0m\u001b[0;34m=\u001b[0m\u001b[0mdtype\u001b[0m\u001b[0;34m)\u001b[0m\u001b[0;34m\u001b[0m\u001b[0;34m\u001b[0m\u001b[0m\n\u001b[0m\u001b[1;32m   2154\u001b[0m         if (\n\u001b[1;32m   2155\u001b[0m             \u001b[0mastype_is_view\u001b[0m\u001b[0;34m(\u001b[0m\u001b[0mvalues\u001b[0m\u001b[0;34m.\u001b[0m\u001b[0mdtype\u001b[0m\u001b[0;34m,\u001b[0m \u001b[0marr\u001b[0m\u001b[0;34m.\u001b[0m\u001b[0mdtype\u001b[0m\u001b[0;34m)\u001b[0m\u001b[0;34m\u001b[0m\u001b[0;34m\u001b[0m\u001b[0m\n",
            "\u001b[0;31mValueError\u001b[0m: could not convert string to float: 'Female'"
          ]
        }
      ]
    },
    {
      "cell_type": "code",
      "source": [],
      "metadata": {
        "id": "jsQ0L-fip5cE"
      },
      "execution_count": null,
      "outputs": []
    },
    {
      "cell_type": "markdown",
      "source": [
        "Observación\n",
        "1. Hay un desbalance moderado entre \"No\" y \"Yes\", lo que podría afectar métricas como recall y F1-score.\n",
        "1. La categoría \"Desconocido\" representa un 3.1% del total. Esto puede indicar:<br>\n",
        "\n",
        "- Valores faltantes que fueron etiquetados como \"Desconocido\".\n",
        "- Un error en la codificación original del dataset.\n",
        "\n",
        "Recomendación<br>\n",
        "Antes de continuar, sería ideal:\n",
        "1. Revisar el origen de \"Desconocido\": ¿proviene de valores nulos o de una categoría real?\n",
        "2. Decidir cómo tratarla:\n",
        "- Eliminar esos registros si son pocos y no aportan valor.\n",
        "- Imputar o reclasificar si tienen sentido contextual.\n",
        "- Excluir \"Desconocido\" del target si se va a entrenar un modelo binario.\n"
      ],
      "metadata": {
        "id": "Tt4WhBu_dsDp"
      }
    },
    {
      "cell_type": "markdown",
      "source": [
        "### **Filtrado de registros válidos**"
      ],
      "metadata": {
        "id": "-7qpuWlheuA5"
      }
    },
    {
      "cell_type": "code",
      "source": [
        "# Filtrar solo registros con Churn conocido\n",
        "df_valid = df[df['Churn'].isin(['Yes', 'No'])].copy()\n",
        "\n",
        "# Verificación\n",
        "print(df_valid['Churn'].value_counts(normalize=True))"
      ],
      "metadata": {
        "id": "9lNcE9byV4d1"
      },
      "execution_count": null,
      "outputs": []
    },
    {
      "cell_type": "markdown",
      "source": [
        "- Eliminamos registros ambiguos o mal etiquetados en la variable Churn.\n",
        "- Calculamos proporciones para entender el grado de desbalance.\n",
        "- Resultado: distribución clara entre \"Yes\" y \"No\" que justifica aplicar técnicas de balanceo como SMOTE.\n"
      ],
      "metadata": {
        "id": "5YRM7KTU1kTr"
      }
    },
    {
      "cell_type": "markdown",
      "source": [
        "### Codificación"
      ],
      "metadata": {
        "id": "MYP5yGUsj-Ph"
      }
    },
    {
      "cell_type": "code",
      "source": [
        "# Aplicar codificación one-hot a las variables categóricas\n",
        "df_encoded = pd.get_dummies(df_valid, drop_first=True)\n",
        "\n",
        "# Verificación del resultado\n",
        "print(f\"Shape después del encoding: {df_encoded.shape}\")\n",
        "print(\"Primeras columnas codificadas:\")\n",
        "print(df_encoded.columns[:10].tolist())"
      ],
      "metadata": {
        "id": "QmE1Q3B91pLF"
      },
      "execution_count": null,
      "outputs": []
    },
    {
      "cell_type": "markdown",
      "source": [
        "#### **Separación de Variables Predictoras (X) y Variable Objetivo (y)**"
      ],
      "metadata": {
        "id": "4EoZ64Ea3bx5"
      }
    },
    {
      "cell_type": "code",
      "source": [
        "# Definir la variable objetivo\n",
        "y = df_encoded['Churn_bin']\n",
        "\n",
        "# Definir el conjunto de variables predictoras, excluyendo columnas redundantes\n",
        "X = df_encoded.drop(columns=['Churn_bin', 'Churn_num', 'Churn_Yes'])\n",
        "\n",
        "# Verificación\n",
        "print(f\"Shape de X: {X.shape}\")\n",
        "print(f\"Shape de y: {y.shape}\")"
      ],
      "metadata": {
        "colab": {
          "base_uri": "https://localhost:8080/"
        },
        "id": "kn8zj2D63Y4Q",
        "outputId": "8b4b12be-782f-4708-b4f9-97a2c8c38f70"
      },
      "execution_count": 13,
      "outputs": [
        {
          "output_type": "stream",
          "name": "stdout",
          "text": [
            "Shape de X: (7043, 31)\n",
            "Shape de y: (7043,)\n"
          ]
        }
      ]
    },
    {
      "cell_type": "markdown",
      "source": [
        "#### **Revisión de Correlaciones Perfectas**\n"
      ],
      "metadata": {
        "id": "kJt6Q26k3xwC"
      }
    },
    {
      "cell_type": "code",
      "source": [
        "# Calcular la matriz de correlación\n",
        "corr_matrix = X.corr()\n",
        "\n",
        "# Identificar pares de variables con correlación perfecta (1 o -1)\n",
        "perfect_corrs = []\n",
        "\n",
        "for col in corr_matrix.columns:\n",
        "    for row in corr_matrix.index:\n",
        "        if col != row and abs(corr_matrix.loc[row, col]) == 1.0:\n",
        "            pair = tuple(sorted([col, row]))\n",
        "            if pair not in perfect_corrs:\n",
        "                perfect_corrs.append(pair)\n",
        "\n",
        "# Mostrar resultados\n",
        "print(\"Pares con correlación perfecta:\")\n",
        "for pair in perfect_corrs:\n",
        "    print(pair)"
      ],
      "metadata": {
        "colab": {
          "base_uri": "https://localhost:8080/"
        },
        "id": "r3Ek7AgK3wvW",
        "outputId": "89649e8b-607e-4fc8-b773-cecc58c25f66"
      },
      "execution_count": 14,
      "outputs": [
        {
          "output_type": "stream",
          "name": "stdout",
          "text": [
            "Pares con correlación perfecta:\n",
            "('phone.MultipleLines_No phone service', 'phone.PhoneService_Yes')\n",
            "('internet.InternetService_Sin Servicio', 'internet.OnlineSecurity_No internet service')\n",
            "('internet.InternetService_Sin Servicio', 'internet.OnlineBackup_No internet service')\n",
            "('internet.DeviceProtection_No internet service', 'internet.InternetService_Sin Servicio')\n",
            "('internet.InternetService_Sin Servicio', 'internet.TechSupport_No internet service')\n",
            "('internet.InternetService_Sin Servicio', 'internet.StreamingTV_No internet service')\n",
            "('internet.InternetService_Sin Servicio', 'internet.StreamingMovies_No internet service')\n",
            "('internet.OnlineBackup_No internet service', 'internet.OnlineSecurity_No internet service')\n",
            "('internet.DeviceProtection_No internet service', 'internet.OnlineSecurity_No internet service')\n",
            "('internet.OnlineSecurity_No internet service', 'internet.TechSupport_No internet service')\n",
            "('internet.OnlineSecurity_No internet service', 'internet.StreamingTV_No internet service')\n",
            "('internet.OnlineSecurity_No internet service', 'internet.StreamingMovies_No internet service')\n",
            "('internet.DeviceProtection_No internet service', 'internet.OnlineBackup_No internet service')\n",
            "('internet.OnlineBackup_No internet service', 'internet.TechSupport_No internet service')\n",
            "('internet.OnlineBackup_No internet service', 'internet.StreamingTV_No internet service')\n",
            "('internet.OnlineBackup_No internet service', 'internet.StreamingMovies_No internet service')\n",
            "('internet.DeviceProtection_No internet service', 'internet.TechSupport_No internet service')\n",
            "('internet.DeviceProtection_No internet service', 'internet.StreamingTV_No internet service')\n",
            "('internet.DeviceProtection_No internet service', 'internet.StreamingMovies_No internet service')\n",
            "('internet.StreamingTV_No internet service', 'internet.TechSupport_No internet service')\n",
            "('internet.StreamingMovies_No internet service', 'internet.TechSupport_No internet service')\n",
            "('internet.StreamingMovies_No internet service', 'internet.StreamingTV_No internet service')\n"
          ]
        }
      ]
    },
    {
      "cell_type": "markdown",
      "source": [
        "#### **Eliminación de Variables Redundantes**"
      ],
      "metadata": {
        "id": "8DeLIFIm6o0z"
      }
    },
    {
      "cell_type": "code",
      "source": [
        "# Eliminar columnas redundantes\n",
        "cols_to_drop = [\n",
        "    'phone.MultipleLines_No phone service',\n",
        "    'internet.OnlineSecurity_No internet service',\n",
        "    'internet.OnlineBackup_No internet service',\n",
        "    'internet.DeviceProtection_No internet service',\n",
        "    'internet.TechSupport_No internet service',\n",
        "    'internet.StreamingTV_No internet service',\n",
        "    'internet.StreamingMovies_No internet service'\n",
        "]\n",
        "\n",
        "X_clean = X.drop(columns=cols_to_drop)\n",
        "\n",
        "# Verificación\n",
        "print(f\"Shape de X después de limpieza: {X_clean.shape}\")"
      ],
      "metadata": {
        "colab": {
          "base_uri": "https://localhost:8080/"
        },
        "id": "XueDbR_P3wjP",
        "outputId": "ab08c897-0f50-4b07-9347-f5006e5099da"
      },
      "execution_count": 15,
      "outputs": [
        {
          "output_type": "stream",
          "name": "stdout",
          "text": [
            "Shape de X después de limpieza: (7043, 24)\n"
          ]
        }
      ]
    },
    {
      "cell_type": "markdown",
      "source": [
        "### Limpieza previa a SMOTE"
      ],
      "metadata": {
        "id": "A03UKdo1kvog"
      }
    },
    {
      "cell_type": "code",
      "source": [],
      "metadata": {
        "id": "U2rAOYXcV4Ud"
      },
      "execution_count": 15,
      "outputs": []
    },
    {
      "cell_type": "markdown",
      "source": [
        "### División y balanceo"
      ],
      "metadata": {
        "id": "Yw-JwVtdk4Yz"
      }
    },
    {
      "cell_type": "code",
      "source": [],
      "metadata": {
        "id": "Hz1rCtOFV4QK"
      },
      "execution_count": 15,
      "outputs": []
    },
    {
      "cell_type": "code",
      "source": [],
      "metadata": {
        "id": "JMsMBvI9k7jw"
      },
      "execution_count": 15,
      "outputs": []
    },
    {
      "cell_type": "code",
      "source": [],
      "metadata": {
        "id": "nrhctHsBk7e3"
      },
      "execution_count": 15,
      "outputs": []
    },
    {
      "cell_type": "code",
      "source": [],
      "metadata": {
        "id": "GyM1ntrwk7an"
      },
      "execution_count": 15,
      "outputs": []
    },
    {
      "cell_type": "code",
      "source": [],
      "metadata": {
        "id": "TRmer15vV4Lt"
      },
      "execution_count": 15,
      "outputs": []
    },
    {
      "cell_type": "code",
      "source": [],
      "metadata": {
        "id": "cozOjQheV4HV"
      },
      "execution_count": 15,
      "outputs": []
    },
    {
      "cell_type": "code",
      "source": [],
      "metadata": {
        "id": "DlXywoqfV4C7"
      },
      "execution_count": 15,
      "outputs": []
    },
    {
      "cell_type": "code",
      "source": [],
      "metadata": {
        "id": "7V-ZF5ZGV3-L"
      },
      "execution_count": 15,
      "outputs": []
    },
    {
      "cell_type": "markdown",
      "source": [
        "En este caso, como el objetivo es predecir si un cliente va a cancelar o no el servicio, estamos trabajando con una variable categórica (churn: sí o no). Por eso, los modelos adecuados son los de clasificación, como DecisionTreeClassifier o KNeighborsClassifier"
      ],
      "metadata": {
        "id": "zz5VMb-xpNeW"
      }
    },
    {
      "cell_type": "markdown",
      "source": [
        "### <font color='blue'>**1.- Preparar los datos para el modelado (tratamiento, codificación, normalización)**."
      ],
      "metadata": {
        "id": "Qq_05Od7_Mvh"
      }
    },
    {
      "cell_type": "markdown",
      "source": [
        "##### **Tratamiento de valores nulos**"
      ],
      "metadata": {
        "id": "zMmwzmPoAVf8"
      }
    },
    {
      "cell_type": "code",
      "source": [
        "# Imputar con mediana en 'account.Charges.Total' — versión segura\n",
        "df_final['account.Charges.Total'] = df_final['account.Charges.Total'].fillna(df_final['account.Charges.Total'].median())\n",
        "\n",
        "# Eliminar filas sin datos en la variable objetivo\n",
        "df_final.dropna(subset=['Chrun_bin', 'Chrun_num'], inplace=True)"
      ],
      "metadata": {
        "colab": {
          "base_uri": "https://localhost:8080/",
          "height": 211
        },
        "id": "XlfAmZvWoknn",
        "outputId": "18ceaa26-140f-4f4a-df52-30c017d773e6"
      },
      "execution_count": 16,
      "outputs": [
        {
          "output_type": "error",
          "ename": "NameError",
          "evalue": "name 'df_final' is not defined",
          "traceback": [
            "\u001b[0;31m---------------------------------------------------------------------------\u001b[0m",
            "\u001b[0;31mNameError\u001b[0m                                 Traceback (most recent call last)",
            "\u001b[0;32m/tmp/ipython-input-3720742172.py\u001b[0m in \u001b[0;36m<cell line: 0>\u001b[0;34m()\u001b[0m\n\u001b[1;32m      1\u001b[0m \u001b[0;31m# Imputar con mediana en 'account.Charges.Total' — versión segura\u001b[0m\u001b[0;34m\u001b[0m\u001b[0;34m\u001b[0m\u001b[0m\n\u001b[0;32m----> 2\u001b[0;31m \u001b[0mdf_final\u001b[0m\u001b[0;34m[\u001b[0m\u001b[0;34m'account.Charges.Total'\u001b[0m\u001b[0;34m]\u001b[0m \u001b[0;34m=\u001b[0m \u001b[0mdf_final\u001b[0m\u001b[0;34m[\u001b[0m\u001b[0;34m'account.Charges.Total'\u001b[0m\u001b[0;34m]\u001b[0m\u001b[0;34m.\u001b[0m\u001b[0mfillna\u001b[0m\u001b[0;34m(\u001b[0m\u001b[0mdf_final\u001b[0m\u001b[0;34m[\u001b[0m\u001b[0;34m'account.Charges.Total'\u001b[0m\u001b[0;34m]\u001b[0m\u001b[0;34m.\u001b[0m\u001b[0mmedian\u001b[0m\u001b[0;34m(\u001b[0m\u001b[0;34m)\u001b[0m\u001b[0;34m)\u001b[0m\u001b[0;34m\u001b[0m\u001b[0;34m\u001b[0m\u001b[0m\n\u001b[0m\u001b[1;32m      3\u001b[0m \u001b[0;34m\u001b[0m\u001b[0m\n\u001b[1;32m      4\u001b[0m \u001b[0;31m# Eliminar filas sin datos en la variable objetivo\u001b[0m\u001b[0;34m\u001b[0m\u001b[0;34m\u001b[0m\u001b[0m\n\u001b[1;32m      5\u001b[0m \u001b[0mdf_final\u001b[0m\u001b[0;34m.\u001b[0m\u001b[0mdropna\u001b[0m\u001b[0;34m(\u001b[0m\u001b[0msubset\u001b[0m\u001b[0;34m=\u001b[0m\u001b[0;34m[\u001b[0m\u001b[0;34m'Chrun_bin'\u001b[0m\u001b[0;34m,\u001b[0m \u001b[0;34m'Chrun_num'\u001b[0m\u001b[0;34m]\u001b[0m\u001b[0;34m,\u001b[0m \u001b[0minplace\u001b[0m\u001b[0;34m=\u001b[0m\u001b[0;32mTrue\u001b[0m\u001b[0;34m)\u001b[0m\u001b[0;34m\u001b[0m\u001b[0;34m\u001b[0m\u001b[0m\n",
            "\u001b[0;31mNameError\u001b[0m: name 'df_final' is not defined"
          ]
        }
      ]
    },
    {
      "cell_type": "markdown",
      "source": [
        "##### **Codificación de Variables Categórica**"
      ],
      "metadata": {
        "id": "_EStjZsvAmKN"
      }
    },
    {
      "cell_type": "code",
      "source": [
        "# Elimina columna ID_Cliente o l ignora si ya no existe\n",
        "df_final.drop(columns=['ID_Cliente'], inplace=True, errors='ignore')\n",
        "\n",
        "# Codificación con pd.get_dummies\n",
        "columnas_categoricas = df_final.select_dtypes(include='object').columns\n",
        "\n",
        "df_final = pd.get_dummies(df_final, columns=columnas_categoricas, drop_first=True)"
      ],
      "metadata": {
        "id": "sJDwJgcDAdms"
      },
      "execution_count": null,
      "outputs": []
    },
    {
      "cell_type": "markdown",
      "source": [
        "##### **Verificación final del DataFram**"
      ],
      "metadata": {
        "id": "quLYDElbNDi8"
      }
    },
    {
      "cell_type": "code",
      "source": [
        "# Confirmar que no quedan datos nulos ni columnas tipo object\n",
        "print(df_final.isnull().sum())\n",
        "print(df_final.dtypes)"
      ],
      "metadata": {
        "colab": {
          "base_uri": "https://localhost:8080/",
          "height": 176
        },
        "id": "oiZz8psFM8nB",
        "outputId": "9c325af1-0e7a-45c1-d22d-c483d4cc0907"
      },
      "execution_count": 17,
      "outputs": [
        {
          "output_type": "error",
          "ename": "NameError",
          "evalue": "name 'df_final' is not defined",
          "traceback": [
            "\u001b[0;31m---------------------------------------------------------------------------\u001b[0m",
            "\u001b[0;31mNameError\u001b[0m                                 Traceback (most recent call last)",
            "\u001b[0;32m/tmp/ipython-input-2807524537.py\u001b[0m in \u001b[0;36m<cell line: 0>\u001b[0;34m()\u001b[0m\n\u001b[1;32m      1\u001b[0m \u001b[0;31m# Confirmar que no quedan datos nulos ni columnas tipo object\u001b[0m\u001b[0;34m\u001b[0m\u001b[0;34m\u001b[0m\u001b[0m\n\u001b[0;32m----> 2\u001b[0;31m \u001b[0mprint\u001b[0m\u001b[0;34m(\u001b[0m\u001b[0mdf_final\u001b[0m\u001b[0;34m.\u001b[0m\u001b[0misnull\u001b[0m\u001b[0;34m(\u001b[0m\u001b[0;34m)\u001b[0m\u001b[0;34m.\u001b[0m\u001b[0msum\u001b[0m\u001b[0;34m(\u001b[0m\u001b[0;34m)\u001b[0m\u001b[0;34m)\u001b[0m\u001b[0;34m\u001b[0m\u001b[0;34m\u001b[0m\u001b[0m\n\u001b[0m\u001b[1;32m      3\u001b[0m \u001b[0mprint\u001b[0m\u001b[0;34m(\u001b[0m\u001b[0mdf_final\u001b[0m\u001b[0;34m.\u001b[0m\u001b[0mdtypes\u001b[0m\u001b[0;34m)\u001b[0m\u001b[0;34m\u001b[0m\u001b[0;34m\u001b[0m\u001b[0m\n",
            "\u001b[0;31mNameError\u001b[0m: name 'df_final' is not defined"
          ]
        }
      ]
    },
    {
      "cell_type": "markdown",
      "source": [
        "#### **Resumen 1a Etapa**\n",
        "\n",
        "Esta etapa se centró en garantizar la calidad, consistencia y estructura adecuada del dataset para su uso en modelos de machine learning.\n",
        "\n",
        "##### Acciones realizadas:\n",
        "\n",
        "- **Carga del archivo**: Se verificó la estructura del DataFrame, compuesto por 7,267 registros y 24 columnas.\n",
        "- **Tratamiento de valores nulos**: Se imputaron o eliminaron valores faltantes, especialmente en `account.Charges.Total`, `Churn_bin` y `Churn_num`.\n",
        "- **Codificación de variables categóricas**: Se aplicó One-Hot Encoding a variables como género, tipo de contrato, servicios de internet, método de pago, etc.\n",
        "- **Verificación final del DataFrame**:\n",
        "  - Todas las variables relevantes quedaron sin valores nulos.\n",
        "  - Las variables booleanas fueron correctamente codificadas como `bool`.\n",
        "  - Las variables numéricas (`customer.tenure`, `Facturacion_Mensual`, `account.Charges.Total`, `Cuentas_Diarias`) quedaron listas para análisis estadístico.\n",
        "\n"
      ],
      "metadata": {
        "id": "qSWToSvsODVF"
      }
    },
    {
      "cell_type": "markdown",
      "source": [
        "**Conclusión de la Etapa**<br>\n",
        "\n",
        "Se completó exitosamente la etapa de exploración y limpieza del conjunto de datos, abordando valores faltantes, inconsistencias y codificación de variables categóricas. Este proceso permitió establecer una base estructurada y confiable para el análisis posterior. Las decisiones tomadas se documentaron cuidadosamente, priorizando la reproducibilidad y la trazabilidad del flujo de trabajo. El dataset resultante presenta una estructura coherente, libre de anomalías críticas, y está listo para avanzar hacia la selección de variables relevantes."
      ],
      "metadata": {
        "id": "kOsQl50WWsgt"
      }
    },
    {
      "cell_type": "markdown",
      "source": [
        "### <font color='blue'>**2.- Realizar análisis de correlación y selección de variables**."
      ],
      "metadata": {
        "id": "TeXgq5lJGDQC"
      }
    },
    {
      "cell_type": "markdown",
      "source": [
        "##### **Análisis de correlación numérica**"
      ],
      "metadata": {
        "id": "MMxI3tH1PNfG"
      }
    },
    {
      "cell_type": "code",
      "source": [
        "import seaborn as sns\n",
        "import matplotlib.pyplot as plt\n",
        "\n",
        "# Correlación de variables numéricas\n",
        "correlaciones = df_final.corr(numeric_only=True)\n",
        "\n",
        "# Visualizar correlación con la variable objetivo\n",
        "plt.figure(figsize=(10, 6))\n",
        "sns.heatmap(correlaciones[['Chrun_num']].sort_values(by='Chrun_num', ascending=False),\n",
        "            annot=True, cmap='coolwarm', vmin=-1, vmax=1)\n",
        "plt.title(\"Correlación de variables numéricas con Churn_num\")\n",
        "plt.tight_layout()\n",
        "plt.show()"
      ],
      "metadata": {
        "id": "cFOdf-5hDy3b"
      },
      "execution_count": null,
      "outputs": []
    },
    {
      "cell_type": "markdown",
      "source": [
        "##### **Análisis de Importancia para Variables Booleana**"
      ],
      "metadata": {
        "id": "fgbu3ahePoPn"
      }
    },
    {
      "cell_type": "code",
      "source": [
        "from sklearn.tree import DecisionTreeClassifier\n",
        "X = df_final.drop(columns=['Chrun_bin', 'Chrun_num', 'Chrun_Yes'])  # excluimos el target y su duplicado\n",
        "y = df_final['Chrun_bin']  # o 'Churn_num' según tu criterio\n",
        "\n",
        "modelo_arbol = DecisionTreeClassifier(random_state=42)\n",
        "modelo_arbol.fit(X, y)\n",
        "\n",
        "importancias = pd.Series(modelo_arbol.feature_importances_, index=X.columns)\n",
        "importancias_ordenadas = importancias.sort_values(ascending=False)\n",
        "\n",
        "# Visualizamos nuevamente\n",
        "import seaborn as sns\n",
        "import matplotlib.pyplot as plt\n",
        "\n",
        "plt.figure(figsize=(10, 6))\n",
        "sns.barplot(x=importancias_ordenadas[:15], y=importancias_ordenadas.index[:15], palette='viridis')\n",
        "plt.title(\"Top 15 variables más importantes (sin Chrun_Yes)\")\n",
        "plt.xlabel(\"Importancia\")\n",
        "plt.ylabel(\"Variable\")\n",
        "plt.tight_layout()\n",
        "plt.show()"
      ],
      "metadata": {
        "id": "O9kg0RZvQGtL"
      },
      "execution_count": null,
      "outputs": []
    },
    {
      "cell_type": "markdown",
      "source": [
        "Variables Predictivas Seleccionadas para el Modelo **DecisionTreeClassifier**\n",
        "\n",
        "| Variable                                  | Descripción y Justificación |\n",
        "|--------------------------------------------|------------------------------|\n",
        "| `customer.tenure`                          | Antigüedad del cliente; menor permanencia se asocia a mayor churn. |\n",
        "| `account.Charges.Total`                    | Total facturado; refleja exposición financiera acumulada. |\n",
        "| `internet.InternetService_Fibra Óptica`    | Este tipo de servicio está correlacionado con mayor abandono. |\n",
        "| `Cuentas_Diarias`                          | Actividad operativa diaria; puede influir en la permanencia. |\n",
        "| `Facturacion_Mensual`                      | Costo mensual del servicio; niveles altos pueden generar abandono. |\n",
        "| `customer.SeniorCitizen`                   | Grupo demográfico con patrones de churn distintos. |\n",
        "| `account.PaymentMethod_Electronic check`   | Método de pago vinculado a mayor volatilidad de permanencia. |\n",
        "| `account.Contract_Two year`                | Contrato largo suele estar ligado a menor churn. |\n",
        "| `internet.OnlineSecurity_Yes`              | Servicios adicionales pueden aumentar la percepción de valor. |\n",
        "| `phone.MultipleLines_Yes`                  | Presencia de líneas múltiples podría asociarse a mayor complejidad o costos. |"
      ],
      "metadata": {
        "id": "gH8U-8ymQ7n3"
      }
    },
    {
      "cell_type": "markdown",
      "source": [
        "##### **Análisis de Multicolinealidad con VIF**"
      ],
      "metadata": {
        "id": "4Jc8lP8v7j6F"
      }
    },
    {
      "cell_type": "code",
      "source": [
        "from statsmodels.stats.outliers_influence import variance_inflation_factor\n",
        "from statsmodels.tools.tools import add_constant\n",
        "import pandas as pd\n",
        "\n",
        "# Usamos df_final directamente con las variables seleccionadas\n",
        "X = df_final[['customer.tenure', 'account.Charges.Total', 'Cuentas_Diarias', 'Facturacion_Mensual']]\n",
        "X_const = add_constant(X)\n",
        "\n",
        "vif_data = pd.DataFrame()\n",
        "vif_data[\"Variable\"] = X.columns\n",
        "vif_data[\"VIF\"] = [variance_inflation_factor(X_const.values, i+1) for i in range(len(X.columns))]\n",
        "\n",
        "print(vif_data)"
      ],
      "metadata": {
        "colab": {
          "base_uri": "https://localhost:8080/",
          "height": 211
        },
        "id": "ej5D6QHz7wyA",
        "outputId": "94d350b8-08f7-4c2b-947d-64a77edfd5fc"
      },
      "execution_count": 18,
      "outputs": [
        {
          "output_type": "error",
          "ename": "NameError",
          "evalue": "name 'df_final' is not defined",
          "traceback": [
            "\u001b[0;31m---------------------------------------------------------------------------\u001b[0m",
            "\u001b[0;31mNameError\u001b[0m                                 Traceback (most recent call last)",
            "\u001b[0;32m/tmp/ipython-input-3802518107.py\u001b[0m in \u001b[0;36m<cell line: 0>\u001b[0;34m()\u001b[0m\n\u001b[1;32m      4\u001b[0m \u001b[0;34m\u001b[0m\u001b[0m\n\u001b[1;32m      5\u001b[0m \u001b[0;31m# Usamos df_final directamente con las variables seleccionadas\u001b[0m\u001b[0;34m\u001b[0m\u001b[0;34m\u001b[0m\u001b[0m\n\u001b[0;32m----> 6\u001b[0;31m \u001b[0mX\u001b[0m \u001b[0;34m=\u001b[0m \u001b[0mdf_final\u001b[0m\u001b[0;34m[\u001b[0m\u001b[0;34m[\u001b[0m\u001b[0;34m'customer.tenure'\u001b[0m\u001b[0;34m,\u001b[0m \u001b[0;34m'account.Charges.Total'\u001b[0m\u001b[0;34m,\u001b[0m \u001b[0;34m'Cuentas_Diarias'\u001b[0m\u001b[0;34m,\u001b[0m \u001b[0;34m'Facturacion_Mensual'\u001b[0m\u001b[0;34m]\u001b[0m\u001b[0;34m]\u001b[0m\u001b[0;34m\u001b[0m\u001b[0;34m\u001b[0m\u001b[0m\n\u001b[0m\u001b[1;32m      7\u001b[0m \u001b[0mX_const\u001b[0m \u001b[0;34m=\u001b[0m \u001b[0madd_constant\u001b[0m\u001b[0;34m(\u001b[0m\u001b[0mX\u001b[0m\u001b[0;34m)\u001b[0m\u001b[0;34m\u001b[0m\u001b[0;34m\u001b[0m\u001b[0m\n\u001b[1;32m      8\u001b[0m \u001b[0;34m\u001b[0m\u001b[0m\n",
            "\u001b[0;31mNameError\u001b[0m: name 'df_final' is not defined"
          ]
        }
      ]
    },
    {
      "cell_type": "markdown",
      "source": [
        "##### **Visualización de correlaciones cruzadas**"
      ],
      "metadata": {
        "id": "HikplToV73r1"
      }
    },
    {
      "cell_type": "code",
      "source": [
        "import seaborn as sns\n",
        "import matplotlib.pyplot as plt\n",
        "\n",
        "plt.figure(figsize=(10, 6))\n",
        "sns.heatmap(X.corr(), annot=True, cmap='coolwarm', fmt=\".2f\")\n",
        "plt.title(\"Matriz de Correlación entre Variables Predictivas\")\n",
        "plt.show()"
      ],
      "metadata": {
        "id": "tJAwo07e8DXN"
      },
      "execution_count": null,
      "outputs": []
    },
    {
      "cell_type": "markdown",
      "source": [
        "##### **Comparación con otras técnicas de selección automática**"
      ],
      "metadata": {
        "id": "e_scsMmL7_Wx"
      }
    },
    {
      "cell_type": "markdown",
      "source": [
        "<u>Recursive Feature Elimination (RFE)</u>"
      ],
      "metadata": {
        "id": "VQRZm-tD9Y6F"
      }
    },
    {
      "cell_type": "code",
      "source": [
        "from sklearn.feature_selection import RFE\n",
        "from sklearn.tree import DecisionTreeClassifier\n",
        "\n",
        "model = DecisionTreeClassifier(random_state=42)\n",
        "rfe = RFE(model, n_features_to_select=5)\n",
        "rfe.fit(X, y)\n",
        "\n",
        "selected_features = X.columns[rfe.support_]\n",
        "print(\"Variables seleccionadas por RFE:\", selected_features.tolist())"
      ],
      "metadata": {
        "id": "UcewyscS7_IK"
      },
      "execution_count": null,
      "outputs": []
    },
    {
      "cell_type": "markdown",
      "source": [
        "<u>SelectFromModel</u>"
      ],
      "metadata": {
        "id": "pwtJhei39jOS"
      }
    },
    {
      "cell_type": "code",
      "source": [
        "from sklearn.feature_selection import SelectFromModel\n",
        "\n",
        "sfm = SelectFromModel(model)\n",
        "sfm.fit(X, y)\n",
        "\n",
        "selected_features_sfm = X.columns[sfm.get_support()]\n",
        "print(\"Variables seleccionadas por SelectFromModel:\", selected_features_sfm.tolist())"
      ],
      "metadata": {
        "id": "UaF0m7TT9S8E"
      },
      "execution_count": null,
      "outputs": []
    },
    {
      "cell_type": "markdown",
      "source": [],
      "metadata": {
        "id": "54rFeLXW76QC"
      }
    },
    {
      "cell_type": "markdown",
      "source": [
        "##### **Resumen Etapa 2**\n",
        "\n",
        "Esta etapa tuvo como objetivo identificar las variables más relevantes para la predicción de chrun, reducir la dimensionalidad y evitar redundancias.\n",
        "\n",
        "### Análisis de correlación numérica\n",
        "\n",
        "Se exploraron relaciones entre variables continuas. Se detectó una correlación casi perfecta entre `Facturacion_Mensual` y `Cuentas_Diarias`, lo que sugiere redundancia informativa.\n",
        "\n",
        "### Análisis de importancia para variables booleanas\n",
        "\n",
        "Se entrenó un `DecisionTreeClassifier` para obtener la importancia relativa de las variables categóricas codificadas. Se visualizaron las 15 variables más influyentes en la predicción de chrun.\n",
        "\n",
        "### Análisis de multicolinealidad con VIF\n",
        "\n",
        "Se calculó el **Factor de Inflación de Varianza (VIF)** para las variables numéricas seleccionadas:\n",
        "\n",
        "| Variable                | VIF        | Interpretación                        |\n",
        "|------------------------|------------|---------------------------------------|\n",
        "| `customer.tenure`      | 5.77       | Aceptable                             |\n",
        "| `account.Charges.Total`| 9.40       | Alta multicolinealidad                |\n",
        "| `Cuentas_Diarias`      | ∞          | Multicolinealidad extrema             |\n",
        "| `Facturacion_Mensual`  | ∞          | Multicolinealidad extrema             |\n",
        "\n",
        "Este análisis confirmó la necesidad de revisar la inclusión simultánea de Facturacion_Mensual y Cuentas_Diarias en modelos sensibles a colinealidad.\n",
        "Los valores de VIF tienden a infinito debido a la correlación perfecta entre ambas variables (coeficiente de correlación = 1.00).\n",
        "\n",
        "\n",
        "### 🔹 Visualización de correlaciones cruzadas\n",
        "\n",
        "Se generaron heatmaps para variables categóricas codificadas y variables numéricas, lo que permitió validar visualmente las relaciones detectadas por VIF y el árbol de decisión.\n",
        "\n",
        "### 🔹 Comparación con técnicas de selección automática\n",
        "\n",
        "Se aplicaron dos métodos complementarios:\n",
        "\n",
        "- **RFE (Recursive Feature Elimination)**: Seleccionó las siguientes variables:\n",
        "  ```python\n",
        "  ['customer.tenure', 'account.Charges.Total', 'Cuentas_Diarias', 'Facturacion_Mensual']\n",
        "- **'SelectFromModel'**: Seleccionó la siguiente variable:\n",
        "   ['account.Charges.Total']"
      ],
      "metadata": {
        "id": "xAnNQpG-PCJ_"
      }
    },
    {
      "cell_type": "markdown",
      "source": [
        "**Conclusión de la Etapa**<br>\n",
        "\n",
        "Se consolidó un conjunto de cuatro variables altamente relevantes para el modelado, seleccionadas mediante técnicas automáticas y análisis interpretativo. Aunque se detectó multicolinealidad entre dos de ellas, se decidió mantenerlas temporalmente para evaluar su impacto en el rendimiento de los modelos en la siguiente etapa. La convergencia entre métodos como RFE, SelectFromModel y el análisis de importancia del árbol de decisión aporta solidez y confianza al proceso de preparación\n"
      ],
      "metadata": {
        "id": "h_MYni9cGQu2"
      }
    },
    {
      "cell_type": "markdown",
      "source": [
        "### <font color='blue'>**3.- Entrenar dos o más modelos de clasificación**."
      ],
      "metadata": {
        "id": "zcy8WKCQSj5_"
      }
    },
    {
      "cell_type": "code",
      "source": [
        "# 📦 Importar librerías\n",
        "from sklearn.model_selection import train_test_split, StratifiedKFold, cross_val_score\n",
        "from sklearn.linear_model import LogisticRegression\n",
        "from sklearn.ensemble import RandomForestClassifier\n",
        "from sklearn.preprocessing import StandardScaler\n",
        "from imblearn.over_sampling import SMOTE\n",
        "\n",
        "# 🎯 División inicial del dataset\n",
        "X_train, X_test, y_train, y_test = train_test_split(\n",
        "    X, y, test_size=0.2, stratify=y, random_state=42\n",
        ")\n",
        "\n",
        "# ⚖️ Rebalanceo con SMOTE (solo sobre el conjunto de entrenamiento)\n",
        "smote = SMOTE(random_state=42)\n",
        "X_train_res, y_train_res = smote.fit_resample(X_train, y_train)\n",
        "\n",
        "# 📏 Escalado de variables\n",
        "scaler = StandardScaler()\n",
        "X_train_res_scaled = scaler.fit_transform(X_train_res)\n",
        "X_test_scaled = scaler.transform(X_test)  # Solo transformamos, no fit\n",
        "\n",
        "# 🔁 Validación cruzada estratificada\n",
        "cv = StratifiedKFold(n_splits=5, shuffle=True, random_state=42)\n",
        "\n",
        "# 🧪 Definición de modelos\n",
        "modelo_lr = LogisticRegression(solver='liblinear', class_weight='balanced', max_iter=1000, random_state=42)\n",
        "modelo_rf = RandomForestClassifier(class_weight='balanced', random_state=42)\n",
        "\n",
        "# 📊 Validación cruzada con F1-score\n",
        "scores_lr = cross_val_score(modelo_lr, X_train_res_scaled, y_train_res, cv=cv, scoring='f1')\n",
        "scores_rf = cross_val_score(modelo_rf, X_train_res_scaled, y_train_res, cv=cv, scoring='f1')\n",
        "\n",
        "# 📈 Resultados\n",
        "print(\"F1-score promedio (Logistic Regression):\", scores_lr.mean())\n",
        "print(\"F1-score promedio (Random Forest):\", scores_rf.mean())"
      ],
      "metadata": {
        "id": "4p1dBSFDbwgF"
      },
      "execution_count": null,
      "outputs": []
    },
    {
      "cell_type": "markdown",
      "source": [
        "### <font color='blue'>**4.- Evaluación del redimiento de los modelos**."
      ],
      "metadata": {
        "id": "GuMD_bBVPxRb"
      }
    },
    {
      "cell_type": "markdown",
      "source": [
        "##### valuación sobre X_test_scaled y y_test\n",
        "Importar métrica\n"
      ],
      "metadata": {
        "id": "Pvx9DKlsP8Ox"
      }
    },
    {
      "cell_type": "code",
      "source": [
        "from sklearn.metrics import accuracy_score, precision_score, recall_score, f1_score, confusion_matrix, classification_report"
      ],
      "metadata": {
        "id": "5OX49luqcU1m"
      },
      "execution_count": null,
      "outputs": []
    },
    {
      "cell_type": "markdown",
      "source": [
        "##### Entrenar modelos finales sobre todo el conjunto rebalanceado"
      ],
      "metadata": {
        "id": "uC4fI1KhOt-T"
      }
    },
    {
      "cell_type": "code",
      "source": [
        "# Entrenar sobre todo el conjunto rebalanceado y escalado\n",
        "modelo_lr.fit(X_train_res_scaled, y_train_res)\n",
        "modelo_rf.fit(X_train_res_scaled, y_train_res)"
      ],
      "metadata": {
        "id": "ylBYpqLwcaZW"
      },
      "execution_count": null,
      "outputs": []
    },
    {
      "cell_type": "markdown",
      "source": [
        "##### Predicciones sobre el conjunto de prueba"
      ],
      "metadata": {
        "id": "UNsd69Ifci8y"
      }
    },
    {
      "cell_type": "code",
      "source": [],
      "metadata": {
        "id": "vW3AgGWjiW1R"
      },
      "execution_count": null,
      "outputs": []
    },
    {
      "cell_type": "code",
      "source": [
        "y_pred_lr = modelo_lr.predict(X_test_scaled)\n",
        "y_pred_rf = modelo_rf.predict(X_test_scaled)"
      ],
      "metadata": {
        "id": "CVEUa7PmcoEj"
      },
      "execution_count": null,
      "outputs": []
    },
    {
      "cell_type": "markdown",
      "source": [
        "##### Métricas para cada molo"
      ],
      "metadata": {
        "id": "bUgxzBCkct3c"
      }
    },
    {
      "cell_type": "code",
      "source": [
        "def evaluar_modelo(y_true, y_pred, nombre):\n",
        "    print(f\"\\nEvaluación para {nombre}\")\n",
        "    print(\"Accuracy:\", accuracy_score(y_true, y_pred))\n",
        "    print(\"Precision:\", precision_score(y_true, y_pred))\n",
        "    print(\"Recall:\", recall_score(y_true, y_pred))\n",
        "    print(\"F1-score:\", f1_score(y_true, y_pred))\n",
        "    print(\"Matriz de confusión:\\n\", confusion_matrix(y_true, y_pred))\n",
        "    print(\"Reporte de clasificación:\\n\", classification_report(y_true, y_pred))\n",
        "\n",
        "# Evaluar ambos modelos\n",
        "evaluar_modelo(y_test, y_pred_lr, \"Logistic Regression\")\n",
        "evaluar_modelo(y_test, y_pred_rf, \"Random Forest\")"
      ],
      "metadata": {
        "id": "t3ShDmLhcqbR"
      },
      "execution_count": null,
      "outputs": []
    },
    {
      "cell_type": "markdown",
      "source": [
        "**Interpretación técnica**<br>\n",
        "Ambos modelos tienen rendimiento similar, con una ligera ventaja para Logistic Regression en todas las métricas.<br>\n",
        "La clase minoritaria (churn) tiene métricas moderadas:\n",
        "+ Precision ≈ 0.57–0.59 → el modelo acierta en ~57% de los casos que predice como churn.\n",
        "+ Recall ≈ 0.58–0.62 → el modelo detecta ~60% de los churn reales.<br>\n",
        "\n",
        "La matriz de confusión muestra que hay falsos negativos y falsos positivos, pero no extremos.\n"
      ],
      "metadata": {
        "id": "CZXQPFJFhceD"
      }
    },
    {
      "cell_type": "markdown",
      "source": [
        "- Los modelos no están sobreajustados: el rendimiento en test es coherente con la validación cruzada.\n",
        "- El rebalanceo con SMOTE ayudó a mejorar la sensibilidad hacia la clase minoritaria.\n",
        "- Aún hay espacio para mejorar recall sin sacrificar demasiado la precisión\n",
        "- - -"
      ],
      "metadata": {
        "id": "OV0KGr_IiCJ9"
      }
    },
    {
      "cell_type": "markdown",
      "source": [
        "### <font color='blue'>**5.- Interpretar los resultados, incluyendo la importancia de las variables**."
      ],
      "metadata": {
        "id": "Vy-9lwONiotN"
      }
    },
    {
      "cell_type": "markdown",
      "source": [
        "##### Importancia de variables en Logistic Regression"
      ],
      "metadata": {
        "id": "SrBBV_cqk6iK"
      }
    },
    {
      "cell_type": "code",
      "source": [
        "from sklearn.linear_model import LogisticRegression\n",
        "import pandas as pd\n",
        "import numpy as np\n",
        "\n",
        "# Entrenar modelo\n",
        "logreg_model_final = LogisticRegression(max_iter=1000, random_state=42)\n",
        "logreg_model_final.fit(X_train_resampled, y_train_resampled)\n",
        "\n",
        "# Extraer coeficientes\n",
        "coefficients = logreg_model_final.coef_[0]\n",
        "feature_names = X_train_resampled.columns\n",
        "\n",
        "coef_df = pd.DataFrame({\n",
        "    'Feature': feature_names,\n",
        "    'Coefficient': coefficients,\n",
        "    'Abs_Coefficient': np.abs(coefficients)\n",
        "}).sort_values(by='Abs_Coefficient', ascending=False)\n",
        "\n",
        "# Mostrar top 10\n",
        "coef_df.head(10)"
      ],
      "metadata": {
        "id": "aEFUGSp2kQqm"
      },
      "execution_count": null,
      "outputs": []
    },
    {
      "cell_type": "markdown",
      "source": [
        "##### Importancia de variables en Random Forest"
      ],
      "metadata": {
        "id": "JbbkTf1rlRtd"
      }
    },
    {
      "cell_type": "code",
      "source": [
        "from sklearn.ensemble import RandomForestClassifier\n",
        "\n",
        "# Entrenar modelo\n",
        "rf_model_final = RandomForestClassifier(n_estimators=100, random_state=42)\n",
        "rf_model_final.fit(X_train_resampled, y_train_resampled)\n",
        "\n",
        "# Extraer importancia\n",
        "rf_importances = rf_model_final.feature_importances_\n",
        "feature_names = X_train_resampled.columns\n",
        "\n",
        "rf_df = pd.DataFrame({\n",
        "    'Feature': feature_names,\n",
        "    'Importance': rf_importances\n",
        "}).sort_values(by='Importance', ascending=False)\n",
        "\n",
        "# Mostrar top 10\n",
        "rf_df.head(10)"
      ],
      "metadata": {
        "id": "jJwaN3w4lVLA"
      },
      "execution_count": null,
      "outputs": []
    },
    {
      "cell_type": "markdown",
      "source": [
        "- Hay consistencia con Logistic Regression: tenure, Charges.Total, Contract_Two year, Facturacion_Mensual, InternetService_Fibra Óptica aparecen en ambos modelos como relevantes.\n",
        "- Random Forest no indica dirección (positivo/negativo), pero confirma la importancia estructural de estas variables.\n"
      ],
      "metadata": {
        "id": "egbmkPK8lz7q"
      }
    },
    {
      "cell_type": "markdown",
      "source": [
        "##### Comparativa top 10: Logistic Regression vs Random Forest"
      ],
      "metadata": {
        "id": "YJqPt1rTmt3Q"
      }
    },
    {
      "cell_type": "markdown",
      "source": [
        "| Variable                                 | LR: Coeficiente | RF: Importancia | Coinciden | Interpretación clave                          |\n",
        "|------------------------------------------|------------------|------------------|-----------|------------------------------------------------|\n",
        "| customer.tenure                          | -1.58            | 0.152            | ✅        | Más antigüedad, menos churn                    |\n",
        "| account.Charges.Total                    | +0.87            | 0.128            | ✅        | Cargos altos → más churn                       |\n",
        "| internet.InternetService_Fibra Óptica    | +0.81            | 0.041            | ✅        | Fibra óptica → más churn                       |\n",
        "| account.Contract_Two year                | -0.63            | 0.063            | ✅        | Contrato largo → retención                     |\n",
        "| Facturacion_Mensual                      | -0.59            | 0.095            | ✅        | Menor facturación → menos churn                |\n",
        "| Cuentas_Diarias                          | -0.59            | 0.097            | ✅        | Más actividad → menos churn                    |\n",
        "| account.Contract_One year                | -0.29            | 0.032            | ✅        | Contrato medio → retención                     |\n",
        "| internet.StreamingTV_Yes                 | +0.29            | —                | ❌        | Streaming TV → más churn                       |\n",
        "| internet.StreamingMovies_Yes             | +0.26            | —                | ❌        | Streaming Movies → más churn                   |\n",
        "| phone.MultipleLines_Yes                  | +0.23            | —                | ❌        | Múltiples líneas → más churn                   |"
      ],
      "metadata": {
        "id": "nLNpazdTmZFs"
      }
    },
    {
      "cell_type": "markdown",
      "source": [
        "Se evaluaron dos modelos predictivos de churn: Regresión Logística y Random Forest, con el objetivo de identificar las variables más influyentes en la decisión de abandono del cliente.\n",
        "Ambos modelos coincidieron en destacar:\n",
        "- Antigüedad del cliente (tenure)\n",
        "- Cargos acumulados (Charges.Total)\n",
        "- Tipo de contrato (Contract_Two year, Contract_One year)\n",
        "- Facturación mensual\n",
        "- Actividad diaria<br>\n",
        "\n",
        "Estas variables deben considerarse prioritarias en estrategias de retención.<br>\n",
        "\n",
        "La regresión logística aporta dirección (efecto positivo o negativo), mientras que Random Forest confirma la relevancia estructural de las variables. La consistencia entre modelos refuerza la confiabilidad de los hallazgos.\n"
      ],
      "metadata": {
        "id": "pSGVzTcHmAxo"
      }
    },
    {
      "cell_type": "markdown",
      "source": [
        "### <font color='blue'>**6.- Crear una conclusión estratégica señalando los principales factores que influyen en la cancelación**."
      ],
      "metadata": {
        "id": "RCsmdFNin1_A"
      }
    },
    {
      "cell_type": "markdown",
      "source": [
        "##### **a) <u>Conclusión estratégica sobre el churn**</u>\n",
        "\n",
        "El análisis de modelos predictivos revela un conjunto claro de factores que influyen significativamente en la cancelación del servicio. Estos hallazgos permiten orientar acciones concretas para reducir el churn y mejorar la retención.\n",
        "\n"
      ],
      "metadata": {
        "id": "lc-IxP3NoMaP"
      }
    },
    {
      "cell_type": "markdown",
      "source": [
        "##### **b) <u>Principales factores asociados al churn**</u>\n",
        "\n",
        "- **Baja antigüedad del cliente (`tenure`)**  \n",
        "  Clientes nuevos presentan mayor riesgo de cancelación. Los primeros meses son críticos para establecer valor y fidelidad.\n",
        "\n",
        "- **Altos cargos acumulados (`Charges.Total`)**  \n",
        "  La percepción de costos elevados está fuertemente asociada al abandono. Es clave revisar políticas de facturación y comunicar beneficios.\n",
        "\n",
        "- **Tipo de contrato**  \n",
        "  Contratos de mayor duración (1 o 2 años) se asocian con menor churn. Incentivar compromisos a largo plazo puede ser efectivo.\n",
        "\n",
        "- **Facturación mensual**  \n",
        "  Menor facturación mensual se vincula con menor churn, posiblemente por percepción de accesibilidad o valor.\n",
        "\n",
        "- **Nivel de actividad (`Cuentas_Diarias`)**  \n",
        "  Clientes más activos tienden a permanecer. Fomentar el uso frecuente del servicio fortalece la relación.\n",
        "\n",
        "- **Tipo de servicio contratado**  \n",
        "  Servicios como fibra óptica y streaming se asocian con mayor churn. Es importante revisar la experiencia de usuario en estos segmentos.\n"
      ],
      "metadata": {
        "id": "Y481z_eyoZwA"
      }
    },
    {
      "cell_type": "markdown",
      "source": [
        "##### **c) <u>Recomendación estratégica</u>**\n",
        "\n",
        "Las acciones de retención deben centrarse en:\n",
        "\n",
        "- Fortalecer la experiencia de los clientes nuevos.\n",
        "- Ofrecer incentivos por contratos largos.\n",
        "- Revisar la estructura de precios y cargos acumulados.\n",
        "- Promover el uso activo del servicio.\n",
        "- Monitorear segmentos con servicios premium para detectar fricciones."
      ],
      "metadata": {
        "id": "3250vzEnodCn"
      }
    },
    {
      "cell_type": "code",
      "source": [],
      "metadata": {
        "id": "SDvJgNqRmoxm"
      },
      "execution_count": null,
      "outputs": []
    }
  ]
}