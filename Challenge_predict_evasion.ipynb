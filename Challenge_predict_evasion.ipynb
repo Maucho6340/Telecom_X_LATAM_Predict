{
  "nbformat": 4,
  "nbformat_minor": 0,
  "metadata": {
    "colab": {
      "provenance": [],
      "authorship_tag": "ABX9TyO6pZMoDd5XL8esdeCVdJhB",
      "include_colab_link": true
    },
    "kernelspec": {
      "name": "python3",
      "display_name": "Python 3"
    },
    "language_info": {
      "name": "python"
    }
  },
  "cells": [
    {
      "cell_type": "markdown",
      "metadata": {
        "id": "view-in-github",
        "colab_type": "text"
      },
      "source": [
        "<a href=\"https://colab.research.google.com/github/Maucho6340/Telecom_X_LATAM_Predict/blob/main/Challenge_predict_evasion.ipynb\" target=\"_parent\"><img src=\"https://colab.research.google.com/assets/colab-badge.svg\" alt=\"Open In Colab\"/></a>"
      ]
    },
    {
      "cell_type": "markdown",
      "source": [
        "# <font color='blue'> CHALLENGE TELECOM X:\n",
        "**Análisis de evasión de clientes Parte-2**"
      ],
      "metadata": {
        "id": "2v3hKLbro6Wt"
      }
    },
    {
      "cell_type": "markdown",
      "source": [
        "## MISIÓN\n",
        "\n"
      ],
      "metadata": {
        "id": "oxGxLv5_o-Sb"
      }
    },
    {
      "cell_type": "markdown",
      "source": [
        "Tu nueva misión es desarrollar modelos predictivos capaces de prever qué clientes tienen mayor probabilidad de cancelar sus servicios.\n",
        "\n",
        "La empresa quiere anticiparse al problema de la cancelación, y te corresponde a ti construir un pipeline robusto para esta etapa inicial de modelado."
      ],
      "metadata": {
        "id": "NTJynijxq4ju"
      }
    },
    {
      "cell_type": "code",
      "execution_count": null,
      "metadata": {
        "id": "7Idq62xZmadG"
      },
      "outputs": [],
      "source": []
    },
    {
      "cell_type": "markdown",
      "source": [
        "## OBJETIVOS DEL DESAFÍO\n"
      ],
      "metadata": {
        "id": "5yGXft8cpC02"
      }
    },
    {
      "cell_type": "markdown",
      "source": [
        "\n",
        "- Preparar los datos para el modelado (tratamiento, codificación, normalización).\n",
        "\n",
        "- Realizar análisis de correlación y selección de variables.\n",
        "\n",
        "- Entrenar dos o más modelos de clasificación.\n",
        "\n",
        "- Evaluar el rendimiento de los modelos con métricas.\n",
        "\n",
        "- Interpretar los resultados, incluyendo la importancia de las variables.\n",
        "\n",
        "- Crear una conclusión estratégica señalando los principales factores que influyen en la cancelación."
      ],
      "metadata": {
        "id": "VTrmwmCkq-NK"
      }
    },
    {
      "cell_type": "markdown",
      "source": [
        "## DESARROLLO"
      ],
      "metadata": {
        "id": "tdcl-M8BrDP4"
      }
    },
    {
      "cell_type": "markdown",
      "source": [
        "### Cargar archivo"
      ],
      "metadata": {
        "id": "6-U841NOrWFI"
      }
    },
    {
      "cell_type": "code",
      "source": [
        "import pandas as pd\n",
        "\n",
        "# Cargar archivo CSV\n",
        "df_final = pd.read_csv(\"/content/df_final.csv\")\n",
        "\n",
        "# Vista rápida de los primeros registros\n",
        "print(df_final.head(10\n",
        "                    ))"
      ],
      "metadata": {
        "colab": {
          "base_uri": "https://localhost:8080/"
        },
        "id": "5DdBj5SkrdxE",
        "outputId": "8469392d-72a0-4df3-81f6-43c8419b1313"
      },
      "execution_count": 3,
      "outputs": [
        {
          "output_type": "stream",
          "name": "stdout",
          "text": [
            "   customerID Churn                                           customer  \\\n",
            "0  0002-ORFBO    No  {'gender': 'Female', 'SeniorCitizen': 0, 'Part...   \n",
            "1  0003-MKNFE    No  {'gender': 'Male', 'SeniorCitizen': 0, 'Partne...   \n",
            "2  0004-TLHLJ   Yes  {'gender': 'Male', 'SeniorCitizen': 0, 'Partne...   \n",
            "3  0011-IGKFF   Yes  {'gender': 'Male', 'SeniorCitizen': 1, 'Partne...   \n",
            "4  0013-EXCHZ   Yes  {'gender': 'Female', 'SeniorCitizen': 1, 'Part...   \n",
            "5  0013-MHZWF    No  {'gender': 'Female', 'SeniorCitizen': 0, 'Part...   \n",
            "6  0013-SMEOE    No  {'gender': 'Female', 'SeniorCitizen': 1, 'Part...   \n",
            "7  0014-BMAQU    No  {'gender': 'Male', 'SeniorCitizen': 0, 'Partne...   \n",
            "8  0015-UOCOJ    No  {'gender': 'Female', 'SeniorCitizen': 1, 'Part...   \n",
            "9  0016-QLJIS    No  {'gender': 'Female', 'SeniorCitizen': 0, 'Part...   \n",
            "\n",
            "                                             phone  \\\n",
            "0   {'PhoneService': 'Yes', 'MultipleLines': 'No'}   \n",
            "1  {'PhoneService': 'Yes', 'MultipleLines': 'Yes'}   \n",
            "2   {'PhoneService': 'Yes', 'MultipleLines': 'No'}   \n",
            "3   {'PhoneService': 'Yes', 'MultipleLines': 'No'}   \n",
            "4   {'PhoneService': 'Yes', 'MultipleLines': 'No'}   \n",
            "5   {'PhoneService': 'Yes', 'MultipleLines': 'No'}   \n",
            "6   {'PhoneService': 'Yes', 'MultipleLines': 'No'}   \n",
            "7  {'PhoneService': 'Yes', 'MultipleLines': 'Yes'}   \n",
            "8   {'PhoneService': 'Yes', 'MultipleLines': 'No'}   \n",
            "9  {'PhoneService': 'Yes', 'MultipleLines': 'Yes'}   \n",
            "\n",
            "                                            internet  \\\n",
            "0  {'InternetService': 'DSL', 'OnlineSecurity': '...   \n",
            "1  {'InternetService': 'DSL', 'OnlineSecurity': '...   \n",
            "2  {'InternetService': 'Fiber optic', 'OnlineSecu...   \n",
            "3  {'InternetService': 'Fiber optic', 'OnlineSecu...   \n",
            "4  {'InternetService': 'Fiber optic', 'OnlineSecu...   \n",
            "5  {'InternetService': 'DSL', 'OnlineSecurity': '...   \n",
            "6  {'InternetService': 'Fiber optic', 'OnlineSecu...   \n",
            "7  {'InternetService': 'Fiber optic', 'OnlineSecu...   \n",
            "8  {'InternetService': 'DSL', 'OnlineSecurity': '...   \n",
            "9  {'InternetService': 'DSL', 'OnlineSecurity': '...   \n",
            "\n",
            "                                             account  \n",
            "0  {'Contract': 'One year', 'PaperlessBilling': '...  \n",
            "1  {'Contract': 'Month-to-month', 'PaperlessBilli...  \n",
            "2  {'Contract': 'Month-to-month', 'PaperlessBilli...  \n",
            "3  {'Contract': 'Month-to-month', 'PaperlessBilli...  \n",
            "4  {'Contract': 'Month-to-month', 'PaperlessBilli...  \n",
            "5  {'Contract': 'Month-to-month', 'PaperlessBilli...  \n",
            "6  {'Contract': 'Two year', 'PaperlessBilling': '...  \n",
            "7  {'Contract': 'Two year', 'PaperlessBilling': '...  \n",
            "8  {'Contract': 'Month-to-month', 'PaperlessBilli...  \n",
            "9  {'Contract': 'Two year', 'PaperlessBilling': '...  \n"
          ]
        }
      ]
    },
    {
      "cell_type": "code",
      "source": [],
      "metadata": {
        "id": "R74lH2sipUay"
      },
      "execution_count": null,
      "outputs": []
    }
  ]
}